{
 "cells": [
  {
   "cell_type": "code",
   "execution_count": 73,
   "metadata": {},
   "outputs": [],
   "source": [
    "import re\n",
    "import os\n",
    "import json\n",
    "\n",
    "from pathlib import Path\n",
    "from datetime import date, datetime, timedelta\n",
    "\n",
    "\n",
    "import numpy as np\n",
    "import pandas as pd\n",
    "from sklearn.preprocessing import StandardScaler\n",
    "from sklearn.feature_extraction.text import TfidfVectorizer\n",
    "\n",
    "from sklearn.metrics.pairwise import cosine_similarity\n",
    "\n",
    "\n",
    "import ast\n",
    "\n",
    "from copy import deepcopy"
   ]
  },
  {
   "cell_type": "code",
   "execution_count": 2,
   "metadata": {},
   "outputs": [
    {
     "data": {
      "text/html": [
       "<div>\n",
       "<style scoped>\n",
       "    .dataframe tbody tr th:only-of-type {\n",
       "        vertical-align: middle;\n",
       "    }\n",
       "\n",
       "    .dataframe tbody tr th {\n",
       "        vertical-align: top;\n",
       "    }\n",
       "\n",
       "    .dataframe thead th {\n",
       "        text-align: right;\n",
       "    }\n",
       "</style>\n",
       "<table border=\"1\" class=\"dataframe\">\n",
       "  <thead>\n",
       "    <tr style=\"text-align: right;\">\n",
       "      <th></th>\n",
       "      <th>bookID</th>\n",
       "      <th>title</th>\n",
       "      <th>authors</th>\n",
       "      <th>average_rating</th>\n",
       "      <th>isbn</th>\n",
       "      <th>isbn13</th>\n",
       "      <th>language_code</th>\n",
       "      <th># num_pages</th>\n",
       "      <th>ratings_count</th>\n",
       "      <th>text_reviews_count</th>\n",
       "      <th>genre</th>\n",
       "    </tr>\n",
       "  </thead>\n",
       "  <tbody>\n",
       "    <tr>\n",
       "      <th>0</th>\n",
       "      <td>792</td>\n",
       "      <td>london city guide lonely planet city guide</td>\n",
       "      <td>['lonely planet', 'sarah johnstone', 'tom mast...</td>\n",
       "      <td>4.03</td>\n",
       "      <td>1740598318</td>\n",
       "      <td>9781740598316</td>\n",
       "      <td>eng</td>\n",
       "      <td>466</td>\n",
       "      <td>38</td>\n",
       "      <td>5</td>\n",
       "      <td>['travel']</td>\n",
       "    </tr>\n",
       "    <tr>\n",
       "      <th>1</th>\n",
       "      <td>797</td>\n",
       "      <td>lonely planet londres</td>\n",
       "      <td>['lonely planet', 'sarah johnstone', 'tom mast...</td>\n",
       "      <td>4.03</td>\n",
       "      <td>8408064762</td>\n",
       "      <td>9788408064763</td>\n",
       "      <td>spa</td>\n",
       "      <td>480</td>\n",
       "      <td>0</td>\n",
       "      <td>0</td>\n",
       "      <td>['travel']</td>\n",
       "    </tr>\n",
       "    <tr>\n",
       "      <th>2</th>\n",
       "      <td>815</td>\n",
       "      <td>three nights august strategy heartbreak joy in...</td>\n",
       "      <td>['bissinger']</td>\n",
       "      <td>3.87</td>\n",
       "      <td>0618710531</td>\n",
       "      <td>9780618710539</td>\n",
       "      <td>eng</td>\n",
       "      <td>287</td>\n",
       "      <td>6560</td>\n",
       "      <td>235</td>\n",
       "      <td>['sports recreation']</td>\n",
       "    </tr>\n",
       "    <tr>\n",
       "      <th>3</th>\n",
       "      <td>828</td>\n",
       "      <td>interface</td>\n",
       "      <td>['neal stephenson', 'george jewsbury', 'stephe...</td>\n",
       "      <td>3.67</td>\n",
       "      <td>0553383434</td>\n",
       "      <td>9780553383430</td>\n",
       "      <td>eng</td>\n",
       "      <td>640</td>\n",
       "      <td>4572</td>\n",
       "      <td>259</td>\n",
       "      <td>['fiction']</td>\n",
       "    </tr>\n",
       "    <tr>\n",
       "      <th>4</th>\n",
       "      <td>830</td>\n",
       "      <td>snow crash</td>\n",
       "      <td>['neal stephenson']</td>\n",
       "      <td>4.03</td>\n",
       "      <td>0553380958</td>\n",
       "      <td>9780553380958</td>\n",
       "      <td>eng</td>\n",
       "      <td>438</td>\n",
       "      <td>187493</td>\n",
       "      <td>6601</td>\n",
       "      <td>['fiction']</td>\n",
       "    </tr>\n",
       "  </tbody>\n",
       "</table>\n",
       "</div>"
      ],
      "text/plain": [
       "   bookID                                              title  \\\n",
       "0     792         london city guide lonely planet city guide   \n",
       "1     797                              lonely planet londres   \n",
       "2     815  three nights august strategy heartbreak joy in...   \n",
       "3     828                                          interface   \n",
       "4     830                                         snow crash   \n",
       "\n",
       "                                             authors  average_rating  \\\n",
       "0  ['lonely planet', 'sarah johnstone', 'tom mast...            4.03   \n",
       "1  ['lonely planet', 'sarah johnstone', 'tom mast...            4.03   \n",
       "2                                      ['bissinger']            3.87   \n",
       "3  ['neal stephenson', 'george jewsbury', 'stephe...            3.67   \n",
       "4                                ['neal stephenson']            4.03   \n",
       "\n",
       "         isbn         isbn13 language_code  # num_pages  ratings_count  \\\n",
       "0  1740598318  9781740598316           eng          466             38   \n",
       "1  8408064762  9788408064763           spa          480              0   \n",
       "2  0618710531  9780618710539           eng          287           6560   \n",
       "3  0553383434  9780553383430           eng          640           4572   \n",
       "4  0553380958  9780553380958           eng          438         187493   \n",
       "\n",
       "   text_reviews_count                  genre  \n",
       "0                   5             ['travel']  \n",
       "1                   0             ['travel']  \n",
       "2                 235  ['sports recreation']  \n",
       "3                 259            ['fiction']  \n",
       "4                6601            ['fiction']  "
      ]
     },
     "execution_count": 2,
     "metadata": {},
     "output_type": "execute_result"
    }
   ],
   "source": [
    "df_start = pd.read_csv('datasets/books_with_genre.csv')\n",
    "df_start.head()"
   ]
  },
  {
   "cell_type": "code",
   "execution_count": 3,
   "metadata": {},
   "outputs": [],
   "source": [
    "pattern = re.compile(r'\\s+')\n",
    "\n",
    "def clean_list_text(list_string):\n",
    "    try:\n",
    "        list_of_author = ast.literal_eval(list_string)\n",
    "        rem_space_list = [re.sub(pattern, '', value) for value in list_of_author]\n",
    "        return \" \".join(rem_space_list)\n",
    "    except:\n",
    "        return \"\""
   ]
  },
  {
   "cell_type": "code",
   "execution_count": 4,
   "metadata": {},
   "outputs": [],
   "source": [
    "def brief_genre(list_genre):\n",
    "    try:\n",
    "        list_of_genre = ast.literal_eval(list_genre)\n",
    "        all_genre = \" \".join(list_of_genre)\n",
    "        split_genre = list(set(all_genre.split()))\n",
    "        \n",
    "        return \" \".join(split_genre)\n",
    "    except:\n",
    "        return \"\""
   ]
  },
  {
   "cell_type": "code",
   "execution_count": 5,
   "metadata": {},
   "outputs": [],
   "source": [
    "# joined_aut = \n",
    "# df_start['authors'].apply(clean_list_text)\n",
    "df_start['author_info'] = df_start['authors'].apply(clean_list_text)\n"
   ]
  },
  {
   "cell_type": "code",
   "execution_count": 6,
   "metadata": {},
   "outputs": [],
   "source": [
    "df_start['language'] = df_start['language_code'].apply(lambda x: \"other\" if x in ['mul', 'en-CA', 'fre',\n",
    "       'por', 'zho', 'ger', 'lat', 'rus', 'grc'] else x.lower())"
   ]
  },
  {
   "cell_type": "code",
   "execution_count": 7,
   "metadata": {},
   "outputs": [
    {
     "data": {
      "text/plain": [
       "eng      1518\n",
       "en-us     258\n",
       "en-gb      51\n",
       "spa        42\n",
       "other      29\n",
       "jpn        10\n",
       "Name: language, dtype: int64"
      ]
     },
     "execution_count": 7,
     "metadata": {},
     "output_type": "execute_result"
    }
   ],
   "source": [
    "df_start['language'].value_counts()"
   ]
  },
  {
   "cell_type": "code",
   "execution_count": 8,
   "metadata": {},
   "outputs": [],
   "source": [
    "df_start['type'] = df_start['genre'].apply(brief_genre)"
   ]
  },
  {
   "cell_type": "code",
   "execution_count": 9,
   "metadata": {},
   "outputs": [
    {
     "data": {
      "text/plain": [
       "fiction                             709\n",
       "juvenile fiction                    123\n",
       "autobiography biography              96\n",
       "history                              68\n",
       "drama                                48\n",
       "                                   ... \n",
       "childbirth                            1\n",
       "byzantine empire fantasy fiction      1\n",
       "norwegian fiction                     1\n",
       "dragons                               1\n",
       "war 1914 world 1918                   1\n",
       "Name: type, Length: 344, dtype: int64"
      ]
     },
     "execution_count": 9,
     "metadata": {},
     "output_type": "execute_result"
    }
   ],
   "source": [
    "df_start['type'].value_counts()"
   ]
  },
  {
   "cell_type": "code",
   "execution_count": 10,
   "metadata": {},
   "outputs": [],
   "source": [
    "df_soup = deepcopy(df_start)"
   ]
  },
  {
   "cell_type": "code",
   "execution_count": 12,
   "metadata": {},
   "outputs": [],
   "source": [
    "df_soup.drop(columns=[ 'authors', 'isbn', 'isbn13', 'language_code', 'genre', ], inplace=True)"
   ]
  },
  {
   "cell_type": "code",
   "execution_count": 14,
   "metadata": {},
   "outputs": [],
   "source": [
    "# df_soup['meta_info'] = \n",
    "# df_soup['title'], df_soup['author_info'], df_soup['type']\n",
    "\n",
    "cols = ['title', 'author_info', 'type']\n",
    "df_soup['meta_info'] = df_soup[cols].apply(lambda row: ' '.join(row.values.astype(str)), axis=1)"
   ]
  },
  {
   "cell_type": "code",
   "execution_count": 16,
   "metadata": {},
   "outputs": [],
   "source": [
    "df_soup.drop(columns=cols, inplace=True)"
   ]
  },
  {
   "cell_type": "code",
   "execution_count": 20,
   "metadata": {},
   "outputs": [],
   "source": [
    "df_meta = pd.get_dummies(df_soup, columns=['language'])"
   ]
  },
  {
   "cell_type": "code",
   "execution_count": 24,
   "metadata": {},
   "outputs": [],
   "source": [
    "df_meta.rename(columns={\"# num_pages\": \"page_num\"}, inplace=True)"
   ]
  },
  {
   "cell_type": "code",
   "execution_count": 42,
   "metadata": {},
   "outputs": [
    {
     "data": {
      "text/html": [
       "<div>\n",
       "<style scoped>\n",
       "    .dataframe tbody tr th:only-of-type {\n",
       "        vertical-align: middle;\n",
       "    }\n",
       "\n",
       "    .dataframe tbody tr th {\n",
       "        vertical-align: top;\n",
       "    }\n",
       "\n",
       "    .dataframe thead th {\n",
       "        text-align: right;\n",
       "    }\n",
       "</style>\n",
       "<table border=\"1\" class=\"dataframe\">\n",
       "  <thead>\n",
       "    <tr style=\"text-align: right;\">\n",
       "      <th></th>\n",
       "      <th>average_rating</th>\n",
       "      <th>page_num</th>\n",
       "      <th>ratings_count</th>\n",
       "      <th>text_reviews_count</th>\n",
       "      <th>meta_info</th>\n",
       "      <th>language_en-gb</th>\n",
       "      <th>language_en-us</th>\n",
       "      <th>language_eng</th>\n",
       "      <th>language_jpn</th>\n",
       "      <th>language_other</th>\n",
       "      <th>language_spa</th>\n",
       "    </tr>\n",
       "    <tr>\n",
       "      <th>title</th>\n",
       "      <th></th>\n",
       "      <th></th>\n",
       "      <th></th>\n",
       "      <th></th>\n",
       "      <th></th>\n",
       "      <th></th>\n",
       "      <th></th>\n",
       "      <th></th>\n",
       "      <th></th>\n",
       "      <th></th>\n",
       "      <th></th>\n",
       "    </tr>\n",
       "  </thead>\n",
       "  <tbody>\n",
       "    <tr>\n",
       "      <th>london city guide lonely planet city guide</th>\n",
       "      <td>0.287373</td>\n",
       "      <td>0.520801</td>\n",
       "      <td>-0.220259</td>\n",
       "      <td>-0.269408</td>\n",
       "      <td>london city guide lonely planet city guide lon...</td>\n",
       "      <td>0</td>\n",
       "      <td>0</td>\n",
       "      <td>1</td>\n",
       "      <td>0</td>\n",
       "      <td>0</td>\n",
       "      <td>0</td>\n",
       "    </tr>\n",
       "    <tr>\n",
       "      <th>lonely planet londres</th>\n",
       "      <td>0.287373</td>\n",
       "      <td>0.584289</td>\n",
       "      <td>-0.220817</td>\n",
       "      <td>-0.272271</td>\n",
       "      <td>lonely planet londres lonelyplanet sarahjohnst...</td>\n",
       "      <td>0</td>\n",
       "      <td>0</td>\n",
       "      <td>0</td>\n",
       "      <td>0</td>\n",
       "      <td>0</td>\n",
       "      <td>1</td>\n",
       "    </tr>\n",
       "    <tr>\n",
       "      <th>three nights august strategy heartbreak joy inside mind manager</th>\n",
       "      <td>-0.181642</td>\n",
       "      <td>-0.290943</td>\n",
       "      <td>-0.124552</td>\n",
       "      <td>-0.137702</td>\n",
       "      <td>three nights august strategy heartbreak joy in...</td>\n",
       "      <td>0</td>\n",
       "      <td>0</td>\n",
       "      <td>1</td>\n",
       "      <td>0</td>\n",
       "      <td>0</td>\n",
       "      <td>0</td>\n",
       "    </tr>\n",
       "    <tr>\n",
       "      <th>interface</th>\n",
       "      <td>-0.767910</td>\n",
       "      <td>1.309870</td>\n",
       "      <td>-0.153725</td>\n",
       "      <td>-0.123958</td>\n",
       "      <td>interface nealstephenson georgejewsbury stephe...</td>\n",
       "      <td>0</td>\n",
       "      <td>0</td>\n",
       "      <td>1</td>\n",
       "      <td>0</td>\n",
       "      <td>0</td>\n",
       "      <td>0</td>\n",
       "    </tr>\n",
       "    <tr>\n",
       "      <th>snow crash</th>\n",
       "      <td>0.287373</td>\n",
       "      <td>0.393824</td>\n",
       "      <td>2.530544</td>\n",
       "      <td>3.507692</td>\n",
       "      <td>snow crash nealstephenson fiction</td>\n",
       "      <td>0</td>\n",
       "      <td>0</td>\n",
       "      <td>1</td>\n",
       "      <td>0</td>\n",
       "      <td>0</td>\n",
       "      <td>0</td>\n",
       "    </tr>\n",
       "  </tbody>\n",
       "</table>\n",
       "</div>"
      ],
      "text/plain": [
       "                                                    average_rating  page_num  \\\n",
       "title                                                                          \n",
       "london city guide lonely planet city guide                0.287373  0.520801   \n",
       "lonely planet londres                                     0.287373  0.584289   \n",
       "three nights august strategy heartbreak joy ins...       -0.181642 -0.290943   \n",
       "interface                                                -0.767910  1.309870   \n",
       "snow crash                                                0.287373  0.393824   \n",
       "\n",
       "                                                    ratings_count  \\\n",
       "title                                                               \n",
       "london city guide lonely planet city guide              -0.220259   \n",
       "lonely planet londres                                   -0.220817   \n",
       "three nights august strategy heartbreak joy ins...      -0.124552   \n",
       "interface                                               -0.153725   \n",
       "snow crash                                               2.530544   \n",
       "\n",
       "                                                    text_reviews_count  \\\n",
       "title                                                                    \n",
       "london city guide lonely planet city guide                   -0.269408   \n",
       "lonely planet londres                                        -0.272271   \n",
       "three nights august strategy heartbreak joy ins...           -0.137702   \n",
       "interface                                                    -0.123958   \n",
       "snow crash                                                    3.507692   \n",
       "\n",
       "                                                                                            meta_info  \\\n",
       "title                                                                                                   \n",
       "london city guide lonely planet city guide          london city guide lonely planet city guide lon...   \n",
       "lonely planet londres                               lonely planet londres lonelyplanet sarahjohnst...   \n",
       "three nights august strategy heartbreak joy ins...  three nights august strategy heartbreak joy in...   \n",
       "interface                                           interface nealstephenson georgejewsbury stephe...   \n",
       "snow crash                                                          snow crash nealstephenson fiction   \n",
       "\n",
       "                                                    language_en-gb  \\\n",
       "title                                                                \n",
       "london city guide lonely planet city guide                       0   \n",
       "lonely planet londres                                            0   \n",
       "three nights august strategy heartbreak joy ins...               0   \n",
       "interface                                                        0   \n",
       "snow crash                                                       0   \n",
       "\n",
       "                                                    language_en-us  \\\n",
       "title                                                                \n",
       "london city guide lonely planet city guide                       0   \n",
       "lonely planet londres                                            0   \n",
       "three nights august strategy heartbreak joy ins...               0   \n",
       "interface                                                        0   \n",
       "snow crash                                                       0   \n",
       "\n",
       "                                                    language_eng  \\\n",
       "title                                                              \n",
       "london city guide lonely planet city guide                     1   \n",
       "lonely planet londres                                          0   \n",
       "three nights august strategy heartbreak joy ins...             1   \n",
       "interface                                                      1   \n",
       "snow crash                                                     1   \n",
       "\n",
       "                                                    language_jpn  \\\n",
       "title                                                              \n",
       "london city guide lonely planet city guide                     0   \n",
       "lonely planet londres                                          0   \n",
       "three nights august strategy heartbreak joy ins...             0   \n",
       "interface                                                      0   \n",
       "snow crash                                                     0   \n",
       "\n",
       "                                                    language_other  \\\n",
       "title                                                                \n",
       "london city guide lonely planet city guide                       0   \n",
       "lonely planet londres                                            0   \n",
       "three nights august strategy heartbreak joy ins...               0   \n",
       "interface                                                        0   \n",
       "snow crash                                                       0   \n",
       "\n",
       "                                                    language_spa  \n",
       "title                                                             \n",
       "london city guide lonely planet city guide                     0  \n",
       "lonely planet londres                                          1  \n",
       "three nights august strategy heartbreak joy ins...             0  \n",
       "interface                                                      0  \n",
       "snow crash                                                     0  "
      ]
     },
     "execution_count": 42,
     "metadata": {},
     "output_type": "execute_result"
    }
   ],
   "source": [
    "df_meta.head()"
   ]
  },
  {
   "cell_type": "code",
   "execution_count": 27,
   "metadata": {},
   "outputs": [],
   "source": [
    "df_meta['title'] = df_start['title']"
   ]
  },
  {
   "cell_type": "code",
   "execution_count": 41,
   "metadata": {},
   "outputs": [],
   "source": [
    "df_meta.set_index(\"title\", inplace=True)\n",
    "# df_meta.drop(columns=[\"bookID\"], inplace=True)"
   ]
  },
  {
   "cell_type": "code",
   "execution_count": 39,
   "metadata": {},
   "outputs": [],
   "source": [
    "num_cols = ['average_rating', 'page_num', 'ratings_count', 'text_reviews_count',]\n",
    "df_meta[num_cols] = StandardScaler().fit_transform(df_meta[num_cols])"
   ]
  },
  {
   "cell_type": "code",
   "execution_count": 44,
   "metadata": {},
   "outputs": [
    {
     "data": {
      "text/plain": [
       "(1908, 40908)"
      ]
     },
     "execution_count": 44,
     "metadata": {},
     "output_type": "execute_result"
    }
   ],
   "source": [
    "tf = TfidfVectorizer(ngram_range=(1,6), min_df = 0, stop_words = 'english', sublinear_tf=True)\n",
    "tfidf_matrix = tf.fit_transform(df_meta['meta_info'])\n",
    "\n",
    "tfidf_matrix.shape"
   ]
  },
  {
   "cell_type": "code",
   "execution_count": 45,
   "metadata": {},
   "outputs": [],
   "source": [
    "df_meta_vect = pd.DataFrame(tfidf_matrix.toarray(), columns=tf.get_feature_names())"
   ]
  },
  {
   "cell_type": "code",
   "execution_count": 61,
   "metadata": {},
   "outputs": [],
   "source": [
    "df_meta_vect.set_index(df_start.title, inplace=True)"
   ]
  },
  {
   "cell_type": "code",
   "execution_count": 63,
   "metadata": {},
   "outputs": [],
   "source": [
    "df_cos = pd.concat([df_meta, df_meta_vect], axis=1, )"
   ]
  },
  {
   "cell_type": "code",
   "execution_count": 69,
   "metadata": {},
   "outputs": [],
   "source": [
    "df_cos.drop(columns=['meta_info'], inplace=True)"
   ]
  },
  {
   "cell_type": "code",
   "execution_count": 72,
   "metadata": {},
   "outputs": [
    {
     "data": {
      "text/plain": [
       "average_rating                                           -4.083400e-13\n",
       "page_num                                                 -1.131317e-13\n",
       "ratings_count                                             4.421463e-14\n",
       "text_reviews_count                                        3.563816e-14\n",
       "language_en-gb                                            5.100000e+01\n",
       "                                                              ...     \n",
       "zur genealogie der moral friedrichnietzsche               2.207019e-01\n",
       "zur genealogie der moral friedrichnietzsche asceticism    2.207019e-01\n",
       "zyberk                                                    1.342987e-01\n",
       "zyberk jeffspeck                                          1.342987e-01\n",
       "zyberk jeffspeck architecture                             1.342987e-01\n",
       "Length: 40918, dtype: float64"
      ]
     },
     "execution_count": 72,
     "metadata": {},
     "output_type": "execute_result"
    }
   ],
   "source": [
    "df_cos.apply(sum)"
   ]
  },
  {
   "cell_type": "code",
   "execution_count": 74,
   "metadata": {},
   "outputs": [],
   "source": [
    "cosine_sim = cosine_similarity(df_cos.to_numpy(), df_cos.to_numpy())"
   ]
  },
  {
   "cell_type": "code",
   "execution_count": 75,
   "metadata": {},
   "outputs": [
    {
     "data": {
      "text/plain": [
       "array([[ 1.        ,  0.32884527,  0.37298748, ...,  0.53439953,\n",
       "         0.02898007, -0.01865784],\n",
       "       [ 0.32884527,  1.        , -0.06714475, ...,  0.10248781,\n",
       "         0.02142254, -0.03034492],\n",
       "       [ 0.37298748, -0.06714475,  1.        , ...,  0.4474616 ,\n",
       "         0.03323951,  0.05826022],\n",
       "       ...,\n",
       "       [ 0.53439953,  0.10248781,  0.4474616 , ...,  1.        ,\n",
       "         0.03741993,  0.01645337],\n",
       "       [ 0.02898007,  0.02142254,  0.03323951, ...,  0.03741993,\n",
       "         1.        ,  0.5725183 ],\n",
       "       [-0.01865784, -0.03034492,  0.05826022, ...,  0.01645337,\n",
       "         0.5725183 ,  1.        ]])"
      ]
     },
     "execution_count": 75,
     "metadata": {},
     "output_type": "execute_result"
    }
   ],
   "source": [
    "cosine_sim"
   ]
  },
  {
   "cell_type": "code",
   "execution_count": 97,
   "metadata": {},
   "outputs": [],
   "source": [
    "def content_recommender(title, cosine_sim, df, indices):\n",
    "    # Obtain the index of the movie that matches the title\n",
    "    idx = indices[title]\n",
    "\n",
    "    if isinstance(idx, pd.Series):\n",
    "        idx = idx.iloc[0]\n",
    "    \n",
    "    # Get the pairwsie similarity scores of all movies with that movie\n",
    "    # And convert it into a list of tuples as described above\n",
    "    sim_scores = list(enumerate(cosine_sim[idx]))\n",
    "    \n",
    "    print(\"idx data: \", type(idx))\n",
    "    print(\"SIM SCORE: \", sim_scores)\n",
    "\n",
    "    # Sort the movies based on the cosine similarity scores\n",
    "    sim_scores = sorted(sim_scores, key=lambda x: x[1], reverse=True)\n",
    "\n",
    "    # Get the scores of the 10 most similar movies. Ignore the first movie.\n",
    "    sim_scores = sim_scores[1:11]\n",
    "\n",
    "    # Get the movie indices\n",
    "    movie_indices = [i[0] for i in sim_scores]\n",
    "\n",
    "    # Return the top 10 most similar movies\n",
    "    return df['title'].iloc[movie_indices]\n"
   ]
  },
  {
   "cell_type": "code",
   "execution_count": 78,
   "metadata": {},
   "outputs": [],
   "source": [
    "df_start = df_start.reset_index()\n",
    "indices2 = pd.Series(df_start.index, index=df_start['title'])"
   ]
  },
  {
   "cell_type": "code",
   "execution_count": 98,
   "metadata": {},
   "outputs": [
    {
     "name": "stdout",
     "output_type": "stream",
     "text": [
      "idx data:  <class 'numpy.int64'>\n",
      "SIM SCORE:  [(0, 0.06198793959176589), (1, -0.06241048133043024), (2, -0.012674165828473525), (3, 0.2464402972899271), (4, 0.7891520535672704), (5, 0.3201904456197023), (6, 0.880329333227441), (7, -0.17023700413429518), (8, 0.20720474991426793), (9, -0.21674012246629656), (10, -0.17708387156634997), (11, 0.06468561209350418), (12, -0.014042245077690944), (13, -0.08199313845014976), (14, -0.11006114048066565), (15, -0.039506552100465664), (16, 0.11992502200908574), (17, -0.06941355631690314), (18, -0.21125708488173253), (19, 0.6867055995332146), (20, -0.1878929780771618), (21, -0.1642224837275019), (22, -0.19050942143342212), (23, 0.5585807562341087), (24, 0.22814552882628017), (25, -0.03889018193227758), (26, 0.16066267361421352), (27, 0.13373130499039784), (28, 0.10603241765268442), (29, -0.04434914445755397), (30, -0.2160339870700706), (31, 0.17898535154161038), (32, -0.12399359970410341), (33, -0.22868256643187032), (34, 0.23572674154121198), (35, 1.000000000000001), (36, -0.18115171958513096), (37, 0.02384814701788159), (38, -0.17163799740360816), (39, -0.11302237240258839), (40, 0.2848744821398104), (41, 0.4726949191685474), (42, -0.1493648230597057), (43, 0.02843608220023394), (44, 0.13069591443226913), (45, 0.14383865617872613), (46, -0.09402659489950646), (47, -0.1898142012797768), (48, -0.1162878364343126), (49, 0.11849491210422684), (50, -0.2153854503706059), (51, 0.12775640890580556), (52, -0.1852073825915326), (53, -0.30506519321024056), (54, 0.018751807323383253), (55, 0.30383838097723237), (56, 0.10924495751674838), (57, -0.15960712649921138), (58, -0.12830989931451114), (59, 0.09577625186627248), (60, -0.0005365214532968794), (61, -0.027798182776516966), (62, -0.1822541565289987), (63, 0.04726220881533111), (64, -0.03421794787589908), (65, 0.26357772561733106), (66, -0.212552569909511), (67, 0.021179747789264198), (68, 0.003671382702072597), (69, -0.17941018665075317), (70, -0.04048442711694822), (71, -0.012721273483156782), (72, -0.1296175512766477), (73, -0.024058284481540883), (74, -0.09743596389908693), (75, -0.0011694796632748686), (76, -0.024556050406043247), (77, -0.06606636441472587), (78, 0.7825521330053379), (79, 0.013076700004592207), (80, -0.06712204666803998), (81, 0.24557093429105595), (82, -0.17424154981516685), (83, 0.009018107020579156), (84, 0.06838891730922751), (85, 0.002634274694300989), (86, -0.16517551672922579), (87, -0.07806154715024909), (88, -0.057284972384149105), (89, -0.1624513150742853), (90, -0.0032143030538695737), (91, 0.0511860777276152), (92, 0.2695343468420488), (93, 0.3407543881897926), (94, -0.10374248204493751), (95, 0.1374015273938227), (96, -0.1108753442962708), (97, -0.08922978680332788), (98, 0.24266227483038055), (99, 0.2569420329085234), (100, 0.031049928781467784), (101, -0.17850435393817732), (102, -0.14884861457448548), (103, -0.16654051683189264), (104, -0.08961399203033206), (105, 0.16284062790242113), (106, -0.23900176964125242), (107, 0.23396387739693011), (108, 0.8247301809579196), (109, 0.781717452633336), (110, -0.16496328182690595), (111, -0.24815416720574668), (112, 0.10464474782711311), (113, 0.1671020199238428), (114, 0.37514631546765176), (115, 0.03648767560153258), (116, -0.2847674653196743), (117, -0.08107050094307157), (118, -0.038847578466045724), (119, 0.25598844113680774), (120, 0.2178983336666926), (121, 0.15900794213563582), (122, 0.32906660064414645), (123, -0.07814673669272477), (124, -0.22258186240764619), (125, -0.09310407493141377), (126, -0.21128049158533715), (127, -0.10621800015365704), (128, -0.24088892003399476), (129, 0.024613268934171456), (130, -0.2177318164439854), (131, -0.05118811986935071), (132, 0.6544999367108898), (133, -0.2502371233351997), (134, 0.011160603956945158), (135, -0.15919419558111578), (136, 0.06073258821643931), (137, 0.11689816871043687), (138, 0.1343034779565068), (139, 0.06479996578268375), (140, 0.5918067049708328), (141, 0.0211564681715266), (142, 0.3579385114144379), (143, 0.7135459769279104), (144, -0.017249286436241792), (145, 0.2544990289069741), (146, -0.01855275164142249), (147, 0.037675354813686626), (148, -0.28809781748732183), (149, 0.021415427572869173), (150, -0.25448641542011347), (151, -0.23577139564808336), (152, -0.16665799322775365), (153, 0.14487036893992314), (154, -0.07617284031653403), (155, -0.303368003622053), (156, -0.3015715717952063), (157, -0.20744904054668384), (158, 0.839057452095321), (159, -0.043138531910504825), (160, -0.05424264751078626), (161, 0.1048457760982882), (162, 0.006648275804111752), (163, -0.05966149383997431), (164, -0.11630465833613633), (165, -0.23897243675550905), (166, -0.06563116797613436), (167, -0.09413219641739105), (168, -0.1830631385263497), (169, -0.24470989333470902), (170, -0.0067158132875886276), (171, -0.14828406389780804), (172, 0.06478894041741193), (173, -0.1907984500703057), (174, 0.037630912637627634), (175, 0.15349648785543898), (176, 0.34720494245733413), (177, -0.0789818914054683), (178, -0.048065524996316), (179, 0.668784277610936), (180, 0.3450296272537699), (181, 0.639476624936563), (182, 0.161168159216908), (183, 0.8250787096468368), (184, 0.07100262924573063), (185, -0.07328165064963778), (186, -0.015606491558291878), (187, -0.19951021173269687), (188, -0.15305535188027244), (189, 0.021382710041582462), (190, -0.07399121387100269), (191, -0.0815688332016548), (192, 0.5364737356994341), (193, 0.03456771963713105), (194, -0.0076787295923855395), (195, -0.17611488832271374), (196, 0.2729737157518929), (197, -0.09544466278227652), (198, -0.26771909907514735), (199, 0.20262597445480635), (200, 0.0671469167789362), (201, 0.1529530292380084), (202, -0.09218561359398575), (203, -0.15600900802901851), (204, 0.10866987922156499), (205, -0.07064833270236215), (206, -0.19504880071295208), (207, -0.19199317492178533), (208, -0.08329216871407197), (209, 0.2717071062107625), (210, 0.037888222746633844), (211, 0.0482338887804382), (212, 0.2791049041008337), (213, -0.09678481765691936), (214, -0.2579312106603871), (215, -0.20555129805539227), (216, -0.13465827822513393), (217, 0.08459209500291259), (218, -0.19229389393307822), (219, -0.31551130200691235), (220, -0.20125929021615518), (221, -0.14581363048810347), (222, -0.16077817601748273), (223, -0.01659399387681748), (224, -0.07219322127193703), (225, 0.012886167131402993), (226, 0.7799883423691873), (227, -0.22857311233613128), (228, -0.10878500296479182), (229, -0.21659914383201276), (230, 0.794876344780121), (231, 0.19118334473661242), (232, -0.08348739580130747), (233, -0.15025505847313905), (234, 0.5536153539153316), (235, -0.1933134076953689), (236, -0.09970977834557243), (237, 0.24121777347331175), (238, 0.052091859815731265), (239, 0.5229755952307542), (240, 0.15754827279265082), (241, 0.1467719681592086), (242, 0.25851563298464925), (243, 0.13624480709005612), (244, 0.3081477530468476), (245, 0.10007748291642586), (246, 0.7633039027331852), (247, 0.10999044781769388), (248, 0.5726231713033662), (249, 0.43011016987785117), (250, -0.20491095973799694), (251, 0.10318081792963109), (252, 0.45689495062579516), (253, 0.30176979552318384), (254, 0.19089020041437704), (255, -0.0654007708452111), (256, 0.6810620458441158), (257, 0.43682170532991915), (258, 0.19207654500007776), (259, 0.051513026270694214), (260, 0.8215459765855675), (261, 0.5175231616393706), (262, 0.03221033017302371), (263, -0.1858096627921608), (264, 0.13310727275000092), (265, -0.0877888535155596), (266, -0.076491272176806), (267, -0.1390194014832295), (268, 0.03935845678917141), (269, -0.11778152413987601), (270, -0.34310221786460676), (271, -0.20197488576816464), (272, -0.2507867362621109), (273, 0.772833134472672), (274, 0.8470535937829731), (275, 0.6144351585226592), (276, -0.07998428858787561), (277, -0.1511784549293709), (278, 0.029849474434539766), (279, 0.20549566511974646), (280, 0.054336136975162874), (281, 0.004654636557854632), (282, 0.00446018610120835), (283, -0.27488564979639957), (284, 0.6089248844659765), (285, -0.09095392433814409), (286, -0.022060951482262274), (287, 0.28171953178279474), (288, 0.281835722630362), (289, 0.07474533076472784), (290, -0.05772802839925983), (291, -0.17671849854139984), (292, -0.12244785798854839), (293, 0.26512587292013295), (294, -0.23642009768770195), (295, 0.2865409489296234), (296, -0.08588554752434761), (297, -0.14045148803598503), (298, 0.19667568582658015), (299, -0.29032304765711203), (300, -0.17736573082216825), (301, -0.1154895270024836), (302, -0.17004336875982146), (303, 0.018264596267656714), (304, -0.35396543919615747), (305, -0.09420734075285621), (306, 0.19654272073521808), (307, -0.0670202620341169), (308, 0.001654981199576155), (309, -0.00889812701291719), (310, 0.7413628524533102), (311, 0.22874823156812157), (312, 0.21306625896285114), (313, 0.8183919397037875), (314, 0.22321025037970832), (315, 0.05939172741806587), (316, -0.0675563551393767), (317, -0.15438165661229206), (318, 0.14022772538284367), (319, 0.34536132728356594), (320, -0.02960743713065751), (321, -0.03313252166294722), (322, 0.11676329660041997), (323, -0.11828376088112992), (324, -0.2126780152221453), (325, 0.20838314360145252), (326, 0.254603553627422), (327, -0.00875742402067142), (328, -0.24099019354387588), (329, -0.06643525060424463), (330, -0.21768814372507309), (331, -0.16348897881387486), (332, -0.1322713097370841), (333, 0.08263078630289092), (334, 0.1274374592496326), (335, -0.14666497251804178), (336, -0.03790810914789239), (337, -0.19591854097316044), (338, 0.1078241340880255), (339, 0.0397562420133633), (340, -0.2120985934329142), (341, 0.6596525186044934), (342, 0.15675770377439063), (343, -0.14314190620614725), (344, 0.01694318771997689), (345, -0.015362244973018403), (346, 0.47585725325874445), (347, -0.1398043886097534), (348, -0.11291435522381295), (349, -0.12395940654577582), (350, -0.19276384050017334), (351, -0.14707036823870137), (352, 0.6427341428695323), (353, -0.15786991903545614), (354, -0.07196260967100268), (355, 0.04556064346145655), (356, -0.13066205070361067), (357, -0.12323298177624632), (358, -0.048815891250082594), (359, 0.021719416170768575), (360, 0.30531155135749566), (361, 0.4681095625493564), (362, 0.04432722336825244), (363, 0.13534031626991688), (364, 0.23522509918266918), (365, 0.12335156736717791), (366, 0.050625295359426295), (367, -0.0015305806366557625), (368, -0.10942575350974562), (369, -0.17065743681352813), (370, -0.20671058289421268), (371, 0.07900939663785053), (372, 0.020693226608027485), (373, 0.13912695059087168), (374, -0.04203001423146032), (375, -0.2567367568083687), (376, -0.00292862242948403), (377, -0.00283382763656868), (378, 0.24120892244302014), (379, 0.8031304054424239), (380, 0.8901140760878611), (381, 0.19649355527403414), (382, -0.0074593765845855945), (383, 0.20624693108104647), (384, 0.349800268809072), (385, -0.050946582224483145), (386, 0.2061351470266362), (387, -0.2161822229788207), (388, -0.19340409098490932), (389, 0.5677479059628935), (390, 0.8119580221305639), (391, -0.20407733713011977), (392, 0.7054349968495001), (393, -0.08398611630761187), (394, 0.21985815302294884), (395, -0.07745854274574641), (396, 0.5556891440785899), (397, -0.17155156161426613), (398, -0.1632646641406232), (399, -0.037408270275067095), (400, -0.2090195082018673), (401, -0.21910891298286994), (402, 0.10490517509389438), (403, 0.07021816473657369), (404, -0.12547324237622395), (405, -0.21158984825048505), (406, -0.19844438697343547), (407, -0.2034688488926546), (408, -0.172556598249497), (409, -0.06763625520261687), (410, 0.024403880915230495), (411, -0.005677479311566044), (412, 0.16766017796392624), (413, 0.43003572616408314), (414, 0.05640041516577396), (415, 0.09668255817787197), (416, -0.25287802385156505), (417, -0.2152950987671656), (418, -0.24995662698987595), (419, 0.011733633438085773), (420, 0.23758724606830747), (421, 0.18675596312430737), (422, -0.14156564738912916), (423, 0.20572268545010539), (424, -0.018486178217064955), (425, 0.2024609798874959), (426, 0.024650398250192756), (427, -0.044951458104036966), (428, -0.2273230661590125), (429, -0.04524132149796422), (430, -0.17378404497046454), (431, -0.06951184752259494), (432, -0.2422124901930824), (433, 0.5095310240889613), (434, -0.24018468251086386), (435, -0.25134937838948035), (436, -0.24330388351879903), (437, -0.2576310093083167), (438, -0.3419457728239037), (439, -0.22519704415684602), (440, -0.1490474354444951), (441, -0.23864525314206073), (442, 0.008072620520249433), (443, -0.3487373772992875), (444, -0.3330495235642527), (445, -0.0923688438039679), (446, -0.20273873673416576), (447, -0.012061205499074319), (448, -0.01666337311424601), (449, -0.08131645251896388), (450, 0.025074169553479533), (451, -0.08255035033312967), (452, -0.26080647693914044), (453, -0.04286124611490821), (454, 0.18297694682546012), (455, -0.12030767666841012), (456, -0.23720253263110924), (457, 0.5648438414931336), (458, -0.07284626561076922), (459, -0.19666240138589786), (460, 0.005238533250005001), (461, -0.09029071565952188), (462, 0.08778414705293701), (463, 0.24085122293275046), (464, -0.07730657360537088), (465, -0.15538052960103832), (466, 0.0020129950966258137), (467, -0.11159800718033275), (468, -0.1761490941026155), (469, 0.14100662615891532), (470, 0.18918281961698516), (471, 0.010743905738167832), (472, -0.17085535834282287), (473, -0.21390749638005213), (474, 0.015898869234654518), (475, 0.32148760535626075), (476, -0.24571652604612626), (477, -0.14732464845979487), (478, -0.17348509386650335), (479, 0.19322666689674337), (480, 0.1401081289804042), (481, 0.8864260589884998), (482, -0.23255556717487932), (483, -0.10967783183499431), (484, -0.22232583882506296), (485, 0.7599940780498411), (486, 0.2501211150944626), (487, -0.23157338555126122), (488, -0.02726969586195921), (489, -0.01881745354765033), (490, -0.21672806478187762), (491, 0.016513265070255485), (492, 0.45338716640581456), (493, 0.1368139184119945), (494, -0.19056831593031356), (495, -0.25265470877318086), (496, -0.12065390916375694), (497, -0.25146163642605024), (498, -0.2345213614005776), (499, -0.2009489559741123), (500, -0.2286860526316333), (501, -0.12076026221959998), (502, -0.16120782310506168), (503, 0.6523995895726381), (504, 0.007833929414665718), (505, -0.07881058011982059), (506, 0.7602803827756136), (507, 0.05635449042849308), (508, -0.0996095810062746), (509, -0.05475449439600667), (510, -0.07735183399408004), (511, -0.10443349992811561), (512, 0.43964195486075597), (513, 0.24033386590136188), (514, -0.05585624048600443), (515, 0.8937860230025126), (516, 0.6416885726875221), (517, 0.019240812102213498), (518, -0.21665849565277015), (519, 0.061034221175214246), (520, -0.21759264072799633), (521, 0.4137821592500334), (522, -0.11746616958016994), (523, 0.10719885949589426), (524, 0.6540320907294817), (525, 0.7448416985032689), (526, -0.24383882735809598), (527, 0.11360695366161874), (528, 0.24951863690775514), (529, 0.43353056635307863), (530, 0.1447750167212283), (531, -0.007837648349068414), (532, 0.16507867316020486), (533, -0.34930592610374), (534, -0.3054742071959532), (535, -0.09972017971662701), (536, -0.15260190501669868), (537, 0.2056998384252129), (538, 0.03565757405047943), (539, -0.01283218014343842), (540, -0.17821044960233065), (541, 0.2220850600695829), (542, 0.032813050591032414), (543, -0.08109875496906369), (544, 0.18825050887316525), (545, 0.6906867994873549), (546, -0.15262773975573993), (547, 0.00380901133840193), (548, 0.41706710509036626), (549, 0.2481073792721304), (550, 0.064673657005721), (551, 0.03482020162317883), (552, 0.2277135403089164), (553, -0.0028098293504622463), (554, 0.01009078250912914), (555, -0.23063226734435133), (556, 0.12594005079375642), (557, 0.3641228843632391), (558, 0.024096807975892448), (559, 0.6509160593251354), (560, -0.10336213461987029), (561, 0.25333013335706617), (562, 0.24220216728517746), (563, 0.2459264842335974), (564, -0.0684930991896928), (565, 0.26071355311745886), (566, 0.6283898585334159), (567, 0.2799336052301082), (568, 0.13425614013218046), (569, -0.05577098319341994), (570, 0.30326081712850755), (571, -0.1026119990094942), (572, -0.25792195005938984), (573, -0.2141102186616835), (574, -0.042458930579523754), (575, 0.9227148730094105), (576, 0.7471346302361157), (577, -0.1457288669873535), (578, 0.6103243336365921), (579, 0.061449832534922505), (580, -0.050124999709401936), (581, -0.07526014128272863), (582, 0.45986397655386874), (583, -0.22980986253238367), (584, -0.1050541878361574), (585, -0.0661678726134739), (586, 0.6079834113353005), (587, 0.6481854095102271), (588, -0.11385729076400766), (589, -0.13294697841286696), (590, 0.1106630870527706), (591, 0.5178240409265722), (592, 0.12342610015003813), (593, 0.03892508473648918), (594, 0.3258693533664053), (595, 0.13188850272247965), (596, -0.17826806358440614), (597, 0.013063387748439678), (598, -0.11578355948519904), (599, -0.10412956285359111), (600, 0.19600724730331126), (601, 0.43471215396136714), (602, 0.004341256183506263), (603, 0.05972316004936046), (604, 0.06925271522641498), (605, 0.23239291228794512), (606, 0.8286149341911131), (607, 0.1729874443771407), (608, 0.7414361543877388), (609, -0.15738301027292906), (610, 0.6896353720762123), (611, -0.04136526148944671), (612, 0.6454919317628057), (613, -0.03137806778311813), (614, -0.2260388237569708), (615, 0.04953960151004722), (616, 0.1953833842248423), (617, -0.05236861348524384), (618, 0.2760827370358712), (619, 0.1744578237658997), (620, -0.11718450654095403), (621, -0.01941582409761726), (622, -0.07805926559016785), (623, -0.036898431229291644), (624, 0.441529646405059), (625, -0.039422928033811054), (626, 0.1459832715543798), (627, 0.0012215644962151162), (628, 0.06763979787601891), (629, -0.04353484542495951), (630, 0.1768563383502096), (631, -0.30517435701915424), (632, -0.11646825726185123), (633, 0.05917962016626144), (634, 0.23358368367066112), (635, 0.608136362649269), (636, -0.1509051195752592), (637, -0.04285698913666999), (638, 0.21533265306974328), (639, 0.18248735944510872), (640, 0.1085913249761997), (641, -0.1446140903358805), (642, -0.06251352911196938), (643, 0.0069761962625987965), (644, -0.1673650347617571), (645, -0.26379924164407487), (646, 0.040540641908675124), (647, -0.016708444801051048), (648, 0.0507110259317791), (649, -0.05166849328956886), (650, 0.04889372165356308), (651, 0.03400980976568107), (652, 0.010092130450198404), (653, -0.15912456201077255), (654, -0.1152107202579691), (655, -0.06649457400690827), (656, 0.08267295910190417), (657, -0.015059281996740658), (658, 0.3152674170605503), (659, -0.07568588373661077), (660, -0.04628773506829341), (661, -0.057781344669100655), (662, -0.030980240445890036), (663, -0.07460468370559208), (664, 0.1332795958304495), (665, 0.260000697236614), (666, -0.12789976132010525), (667, -0.1812467824830991), (668, -0.1102983829852572), (669, -0.11106678327158089), (670, -0.018113791733242193), (671, 0.3298317653749338), (672, 0.2671397777194874), (673, 0.2738022630071977), (674, 0.04549109247132898), (675, 0.3877929884949338), (676, -0.1550993287975048), (677, 0.23735179433703232), (678, -0.035899679612008316), (679, -0.20689922560059867), (680, 0.004452571189442601), (681, 0.19559357451796744), (682, 0.15224848635564753), (683, -0.22739334864531963), (684, 0.12344743803568504), (685, 0.363122740914041), (686, 0.3431638145849524), (687, 0.29155919572671385), (688, -0.24878353609444692), (689, -0.27538989175822154), (690, 0.011077554219399073), (691, 0.015104207203118447), (692, -0.18865721865001453), (693, -0.030061576597974503), (694, 0.22827938336502973), (695, 0.00047175117140692356), (696, -0.09279411046160835), (697, -0.03680515247105868), (698, -0.09356572237295874), (699, -0.19436582670108357), (700, -0.21140703884632842), (701, -0.10190816210531599), (702, -0.05996061738842503), (703, -0.06075656611943953), (704, 0.18796792214271926), (705, 0.19740029839330742), (706, 0.18273199662659884), (707, 0.13178527466102805), (708, -0.25401305530054863), (709, 0.6769559482252879), (710, -0.21958335194201795), (711, -0.0317210235815857), (712, 0.2869180369921506), (713, 0.07121264198251862), (714, -0.05099048766295435), (715, -0.07373611216132467), (716, 0.08584535059506629), (717, 0.6202149019597606), (718, -0.23526771985855613), (719, 0.21578647741754114), (720, -0.11641809753521691), (721, -0.06962783693225291), (722, -0.14709883583668165), (723, -0.10332901719713619), (724, 0.5108264331118157), (725, -0.12274155517799944), (726, 0.8117401207643778), (727, -0.01452496658224006), (728, -0.04494645397638066), (729, -0.28484676157859323), (730, 0.8769261675799699), (731, -0.2035918336905086), (732, 0.2387658908236476), (733, 0.04091735097304438), (734, 0.35753559758303033), (735, -0.07134664373774562), (736, 0.24254315613173838), (737, 0.039995196916950894), (738, 0.6273927060224055), (739, -0.21835516660868276), (740, -0.04935688728895837), (741, -0.223859122426511), (742, 0.5650294691982913), (743, -0.2215118288395256), (744, -0.19125850644265494), (745, 0.6031081754120093), (746, 0.5505104214401543), (747, 0.027412531646845567), (748, -0.1384326444209973), (749, -0.267180704351824), (750, -0.10118529579973674), (751, -0.103454095668406), (752, -0.03102691866505857), (753, 0.006745922171540087), (754, 0.018628907703274765), (755, 0.014463459822517358), (756, 0.06694715221932186), (757, -0.19530664824924507), (758, -0.16340897454964187), (759, -0.277771273382541), (760, -0.15008966648668884), (761, -0.1467178370710898), (762, -0.3092239892435969), (763, -0.1483088394278887), (764, -0.16626855130182916), (765, -0.13797325286862577), (766, 0.12667194460747294), (767, -0.16456478886006481), (768, -0.15427542994467836), (769, -0.13413293692908712), (770, -0.15776587512316242), (771, -0.1546828604489604), (772, -0.1510604291470165), (773, -0.16313912327648225), (774, -0.16383210248271196), (775, -0.15380363027513796), (776, -0.2960717265779194), (777, -0.294560236267336), (778, -0.2941557861159729), (779, -0.2934784224306198), (780, -0.29733506770497264), (781, -0.16815046488306354), (782, -0.10922871242460151), (783, -0.30248625161161535), (784, -0.2956256339656235), (785, -0.29981947018606414), (786, -0.2968112334645644), (787, 0.01153478361681502), (788, 0.11975886571943872), (789, -0.009785536766179045), (790, -0.12287348800861173), (791, -0.14333265374121723), (792, -0.19330373555904906), (793, -0.19964883277022147), (794, -0.20375540093118277), (795, -0.12148817741757557), (796, -0.12465098448674994), (797, -0.11932301440676402), (798, -0.16553461388799756), (799, -0.17651225685639324), (800, 0.6921418621343726), (801, 0.10337534607238122), (802, -0.162379134638986), (803, -0.18135680921767752), (804, -0.2479161218414499), (805, -0.021190349511126413), (806, -0.27222244267976936), (807, 0.4588079403283238), (808, 0.4020227903046343), (809, -0.2501106269347546), (810, 0.4919972786552388), (811, 0.2111694864049584), (812, -0.025182194939073445), (813, 0.08633729382825416), (814, -0.16763768009794042), (815, -0.06656579455779), (816, 0.14385107726512017), (817, -0.15417737191072153), (818, -0.022724047113610195), (819, -0.18735886365666424), (820, -0.16015260737537595), (821, -0.14704284106057203), (822, -0.2073718264822065), (823, 0.16282371191976078), (824, 0.20932388355732046), (825, -0.21258354203335736), (826, 0.050693307127817624), (827, -0.24384486958167942), (828, -0.13773950134629043), (829, -0.06040433592214805), (830, -0.3354778318533957), (831, -0.3044776667251516), (832, -0.04363402110776447), (833, -0.29369564657465386), (834, 0.2220909557936626), (835, 0.0318527862369731), (836, -0.15170076957656636), (837, 0.13470002512642373), (838, 0.020153873762786458), (839, -0.018987898926481884), (840, -0.08105585188358962), (841, -0.09965108647583423), (842, -0.12453463044108169), (843, -0.16228482119358864), (844, 0.04369085737393321), (845, 0.017086902049470897), (846, 0.06607789404744478), (847, -0.0420396690195631), (848, -0.1362561464072686), (849, 0.36071746995516263), (850, -0.2668312408596866), (851, -0.2960951033704194), (852, -0.020316060179762712), (853, 0.06361256732548184), (854, -0.032295221575046586), (855, 0.029698579102341208), (856, -0.1332280935187585), (857, 0.11593060263223186), (858, 0.19725341325030807), (859, 0.26083606601565196), (860, -0.24560059831180345), (861, -0.019637846884135526), (862, -0.232038026816686), (863, 0.16587049530284412), (864, 0.3206121451002319), (865, -0.017843794015569504), (866, -0.0480205461544047), (867, -0.2267334067929879), (868, 0.23401157530479852), (869, -0.26409614149661814), (870, 0.4001547878414636), (871, -0.13176820599486463), (872, 0.4653475358749733), (873, 0.6874412322938604), (874, 0.08667539641341383), (875, -0.0969828412333152), (876, 0.08563350352322414), (877, -0.1425015062618022), (878, -0.11902609780629161), (879, 0.2544171107054111), (880, 0.8466568061632428), (881, 0.5557569474254773), (882, -0.09160003613511952), (883, -0.10927079818568895), (884, -0.0481747343293701), (885, 0.3342232553013789), (886, 0.16451479483919482), (887, 0.05212797919295814), (888, -0.2087560284773068), (889, 0.03194433439430682), (890, -0.17808389031629462), (891, -0.18928051627192644), (892, -0.09456600712847786), (893, -0.03204457350274467), (894, -0.11778982020902166), (895, 0.013601555032978174), (896, -0.10978824717822358), (897, -0.03514699240613814), (898, 0.11134598250837621), (899, -0.18098978453977366), (900, 0.340079688069105), (901, 0.054380952472911796), (902, 0.1561353519042931), (903, 0.265952373397143), (904, -0.1989434305289773), (905, 0.7048526514924555), (906, -0.2945305571761345), (907, 0.0350015897123715), (908, -0.11413154566103134), (909, -0.14260119367915475), (910, 0.02275568377385469), (911, -0.0014496731314925181), (912, 0.1907602227706039), (913, 0.018324463262028013), (914, -0.071435250598364), (915, -0.04237986859888638), (916, -0.14470297621764525), (917, 0.2438645181675636), (918, -0.049841228721471786), (919, -0.0007949096979248396), (920, -0.18234552050012418), (921, 0.277991061258833), (922, -0.18762566410291834), (923, -0.0054191105205730825), (924, -0.20806385031750851), (925, -0.11610971433803127), (926, 0.13575612986119204), (927, 0.1539151443951014), (928, -0.08372433900145845), (929, 0.12914541388904754), (930, 0.08259547559939615), (931, 0.2903489472545317), (932, -0.006683452868435562), (933, 0.6855568804319664), (934, -0.08439257203724444), (935, 0.02006519390179407), (936, -0.037677888229149935), (937, 0.11751506870558738), (938, -0.03679789947295629), (939, -0.22889698810556697), (940, 0.04164549437375507), (941, -0.196372375021886), (942, 0.22684071703731365), (943, 0.6961982545939306), (944, -0.10768067770005811), (945, -0.22811433752648497), (946, -0.15509836097442226), (947, -0.18156709245726962), (948, 0.19474846756486394), (949, 0.32069072951037714), (950, -0.08371409547162371), (951, -0.22547286602730005), (952, 0.097333824710501), (953, -0.09884692513613903), (954, 0.2628740093443342), (955, -0.13677155812428418), (956, 0.12363197799552561), (957, 0.18878829657136323), (958, -0.20488618455791688), (959, 0.14447618451059988), (960, -0.03444539524136921), (961, -0.05458133210502537), (962, -0.07749770434256639), (963, 0.20394172103107658), (964, -0.14934015146767807), (965, -0.047490032333862064), (966, -0.12850808739631608), (967, -0.04999894631632211), (968, -0.1798753196851952), (969, -0.024569911829142206), (970, -0.1084857722793738), (971, -0.06386816008011244), (972, 0.4809372116595595), (973, 0.5746252210578555), (974, -0.19241721785041024), (975, -0.07088332257499501), (976, -0.18118233482097415), (977, -0.13460406709144854), (978, 0.5752673863081053), (979, -0.13629245609063542), (980, -0.16401171594819502), (981, -0.06569889125506335), (982, -0.11521348059403963), (983, 0.1575347786279469), (984, -0.0754617964131447), (985, 0.08952838396768618), (986, -0.05786011920018919), (987, -0.048467713745190946), (988, -0.06852459518291629), (989, -0.1411547634717283), (990, -0.024964810691946348), (991, -0.05867820422636503), (992, 0.01852766033820025), (993, 0.03647707172320348), (994, 0.07045369280716586), (995, 0.8540938951119579), (996, 0.03682261687574508), (997, -0.05423872888211603), (998, -0.21747123092298404), (999, -0.08138276890059008), (1000, 0.027830497173615118), (1001, 0.06917723729796407), (1002, -0.04299245775176189), (1003, 0.08117533617588342), (1004, 0.03336399601609016), (1005, 0.2462570557832463), (1006, 0.13999650607852554), (1007, -0.16401531679842135), (1008, -0.13437868161782152), (1009, -0.12196973821450746), (1010, -0.0012008349169412254), (1011, -0.34169648943517555), (1012, -0.1318764510390607), (1013, -0.09186202012004059), (1014, -0.13496086626894677), (1015, 0.12943542185460052), (1016, 0.14752221920995798), (1017, 0.1321748062331506), (1018, -0.062222985637402965), (1019, -0.1927898044907262), (1020, 0.029609223441898237), (1021, -0.01844047994239892), (1022, -0.223818788931577), (1023, 0.14543858423160477), (1024, 0.06716920643666525), (1025, -0.01273267792769817), (1026, 0.6115125004341477), (1027, 0.4710393643557357), (1028, -0.2227374280749652), (1029, -0.1589330127882015), (1030, -0.1682366968411952), (1031, -0.0959581324695419), (1032, -0.21607744181699678), (1033, -0.3174754639587681), (1034, -0.08450318661590792), (1035, -0.11592818497460973), (1036, -0.2586088811901002), (1037, -0.17410492389595178), (1038, -0.35122273451996416), (1039, -0.21121823206491078), (1040, 0.185941141699931), (1041, 0.1391942998327327), (1042, -0.06437465466021611), (1043, -0.08867838472211599), (1044, 0.07487883243504286), (1045, -0.026815077471211302), (1046, -0.1615962951487971), (1047, 0.18053643389413968), (1048, -0.052749066324713524), (1049, 0.08022412469284852), (1050, -0.3030004951734549), (1051, 0.1709542629044743), (1052, -0.1843956732498174), (1053, 0.17699082206030797), (1054, 0.07744461103088411), (1055, 0.033835033782871275), (1056, -0.017496043258800706), (1057, 0.0025697599687382316), (1058, 0.13489839814027726), (1059, -0.17620581778079866), (1060, -0.1261363809190319), (1061, -0.15802817494476723), (1062, 0.2478648147990236), (1063, -0.15146461339180217), (1064, 0.12188167647517856), (1065, 0.14511938200526375), (1066, 0.20052711901029174), (1067, 0.18308779350912452), (1068, 0.7602478795779477), (1069, 0.25245892776427187), (1070, 0.32490955388954845), (1071, 0.07185591704573946), (1072, -0.007103261990756792), (1073, -0.1958754167706905), (1074, 0.13412780371274236), (1075, -0.21668356512904244), (1076, 0.1813569008494666), (1077, -0.2157318227027358), (1078, -0.0941764681754914), (1079, 0.0475705159012736), (1080, -0.14306704937283943), (1081, -0.2276807677184368), (1082, 0.8738901081326972), (1083, 0.14304657036597693), (1084, 0.24337250694282314), (1085, -0.3083635959411702), (1086, 0.2362883510156682), (1087, -0.199585761024355), (1088, -0.18573564896162556), (1089, 0.11267630538258257), (1090, 0.6481221870174608), (1091, -0.06344459395178437), (1092, 0.09898410965290166), (1093, 0.06696664776023657), (1094, -0.14594991003880686), (1095, -0.28594491592956023), (1096, -0.16895365961627526), (1097, -0.10806302251558582), (1098, -0.2519479942713642), (1099, 0.018233878074318283), (1100, -0.29249935447277453), (1101, -0.35152874727483774), (1102, -0.15461648179491638), (1103, -0.30961795849321033), (1104, 0.00907451808577872), (1105, -0.036320480146890086), (1106, -0.027563331403438897), (1107, 0.031821704123910007), (1108, 0.06405422505723107), (1109, 0.38616226412312427), (1110, -0.07299549814809982), (1111, -0.09758954872348527), (1112, -0.036619508817933286), (1113, 0.1725585198105967), (1114, 0.01988665164150952), (1115, 0.20216631703218876), (1116, 0.16996325690310696), (1117, -0.18810839296384443), (1118, -0.14109759984901218), (1119, -0.12413436272919758), (1120, -0.10741256294464198), (1121, 0.048438301906570475), (1122, -0.19147491601383348), (1123, -0.04056494947351591), (1124, -0.044531847988506255), (1125, -0.15755739676697578), (1126, -0.21731927878054172), (1127, -0.09611951181375944), (1128, -0.026192964575222584), (1129, -0.05556018780570352), (1130, -0.04056596135319178), (1131, -0.08384830684291245), (1132, 0.1871341687505652), (1133, -0.07825130102504754), (1134, -0.08135403703835399), (1135, -0.06752381147401633), (1136, 0.03736383040753065), (1137, 0.3638914291469987), (1138, 0.01256786129427313), (1139, 0.2419989867689035), (1140, -0.04480045965870129), (1141, -0.06055387619514927), (1142, -0.18384344435983707), (1143, -0.2372383485253184), (1144, -0.3498023852083097), (1145, -0.32887683218383773), (1146, 0.09051855333253414), (1147, 0.08483746346388697), (1148, 0.015703169001139952), (1149, -0.10355889357104912), (1150, 0.11666461390796111), (1151, 0.04862825285187998), (1152, 0.10334417551268457), (1153, 0.17307310307884216), (1154, -0.11543572238993696), (1155, 0.12012102048417299), (1156, 0.14252980805761697), (1157, 0.0030983622140479256), (1158, -0.19371344916555389), (1159, -0.17917484967825498), (1160, -0.2649583939973792), (1161, 0.3902927421439114), (1162, -0.3050153677455469), (1163, 0.014843312439604295), (1164, 0.7277668921041609), (1165, 0.06909240569941107), (1166, 0.11867943046047667), (1167, -0.23972197009350896), (1168, -0.11588061466292933), (1169, -0.1617275990239519), (1170, -0.15592164105086204), (1171, -0.1806967267772932), (1172, 0.24093881168031767), (1173, 0.08345060829925018), (1174, 0.1788184196152954), (1175, -0.08750636375440132), (1176, -0.05426895604999657), (1177, -0.04602085239943648), (1178, 0.1802798488892402), (1179, -0.06759086061181264), (1180, -0.036821703041166956), (1181, -0.0043437528215071785), (1182, -0.03691894633646213), (1183, -0.08382380597442944), (1184, 0.21081048271357752), (1185, 0.13055871583279674), (1186, -0.06780774477959534), (1187, 0.015006584269769582), (1188, -0.09043726436223003), (1189, -0.13253790006841387), (1190, -0.23170024635035297), (1191, -0.13914317067011475), (1192, -0.026206754692631295), (1193, -0.02514545800532717), (1194, -0.18330454155180978), (1195, -0.20014343326432074), (1196, 0.020560202367201037), (1197, 0.27383153861734466), (1198, -0.19054982447822139), (1199, -0.20847948297612587), (1200, -0.02570717630933512), (1201, 0.047431933356786644), (1202, 0.05683485901214876), (1203, -0.2674830861489003), (1204, 0.06593828956388911), (1205, -0.0347652984430873), (1206, -0.05858924426768048), (1207, -0.03246342707999023), (1208, -0.027646504118238463), (1209, -0.14019039308208656), (1210, -0.22841597565214286), (1211, 0.03323152279374144), (1212, 0.02632821174761522), (1213, 0.0031617898836080304), (1214, 0.1920886019331268), (1215, -0.12396476350378147), (1216, -0.3233497499022566), (1217, 0.2407141190621264), (1218, -0.051209377599894794), (1219, 0.2645018511590394), (1220, -0.17027491103809062), (1221, 0.24349120416191725), (1222, 0.2329276736602512), (1223, -0.03942641684553573), (1224, 0.30715032571415896), (1225, 0.23303633089155476), (1226, 0.5441218205457182), (1227, -0.05159533249188966), (1228, -0.17763153223428974), (1229, -0.07008262662418463), (1230, 0.11274747351585152), (1231, -0.2611075019167752), (1232, 0.21410810868027091), (1233, 0.08090373139333491), (1234, -0.039871246743332665), (1235, -0.04427226323968503), (1236, 0.12491234563622249), (1237, 0.3918461750595715), (1238, 0.02893635715633552), (1239, 0.19312704882997847), (1240, 0.12169513931956616), (1241, 0.32954296201003275), (1242, 0.07477508276358263), (1243, -0.14267396924514777), (1244, -0.12998102870006792), (1245, 0.04070370974691486), (1246, -0.20477725429887142), (1247, -0.06438310551342816), (1248, -0.0735976313451354), (1249, 0.2133961040033352), (1250, 0.41292611758991926), (1251, 0.06360970897087981), (1252, -0.07220418799907415), (1253, -0.029591548808638537), (1254, -0.02232037927987371), (1255, 0.6885080346963375), (1256, -0.1601261393176928), (1257, -0.15839266659738613), (1258, -0.09315511561207293), (1259, -0.15840396017321623), (1260, -0.17439617861967438), (1261, -0.3180435302672104), (1262, -0.325711281613925), (1263, -0.32158646035251076), (1264, 0.2969967627520355), (1265, -0.138249249776025), (1266, 0.10047367543769636), (1267, -0.12404157029885142), (1268, -0.2039652815906405), (1269, -0.21752099788279772), (1270, -0.16227878987393993), (1271, -0.3445799037775285), (1272, 0.29677520300467175), (1273, -0.1882318668191469), (1274, -0.351436964509953), (1275, -0.016646909322683385), (1276, 0.2557827296962839), (1277, -0.27620903817466574), (1278, 0.00956059484772167), (1279, -0.13627074740258516), (1280, -0.32400475598728096), (1281, -0.3160060573569187), (1282, 0.2078562454299726), (1283, 0.16861859929020567), (1284, 0.20272010334747392), (1285, -0.2431017956050142), (1286, 0.18574056433154745), (1287, 0.12749137834994834), (1288, 0.256573445450077), (1289, -0.1854119515814827), (1290, -0.23687912450856882), (1291, -0.08312900755883801), (1292, -0.05179415100171517), (1293, -0.11163978508104894), (1294, -0.27860222662201656), (1295, 0.1351474487674741), (1296, 0.21679255818005091), (1297, 0.27213470092717834), (1298, -0.010271182675201936), (1299, 0.054477367945405135), (1300, 0.26056376564579553), (1301, -0.11458685162374957), (1302, -0.12264074776612557), (1303, -0.13023770334707016), (1304, -0.30949858306753025), (1305, -0.2562656818729547), (1306, -0.24541794970204403), (1307, -0.1099527620109074), (1308, 0.28061626669821577), (1309, 0.27808102415306224), (1310, 0.11885484101538552), (1311, 0.1301683432224483), (1312, 0.07662485676521619), (1313, -0.14208221374554364), (1314, -0.3098981496209719), (1315, -0.0006900801742063954), (1316, 0.12789795838809143), (1317, 0.06561540358096148), (1318, -0.17737143480063414), (1319, -0.08545474678876029), (1320, -0.1847755011091266), (1321, 0.31776876547147986), (1322, 0.45851805032555415), (1323, -0.007718524898604584), (1324, -0.2674755427288654), (1325, -0.045122845316497615), (1326, -0.1267133493663046), (1327, -0.16235815613736915), (1328, -0.018429316044058015), (1329, -0.11158253390280992), (1330, 0.12309973497176913), (1331, 0.09183706757234873), (1332, 0.6027552003697296), (1333, 0.3281642296495147), (1334, 0.2110646398823549), (1335, 0.21368048556603633), (1336, 0.35923068590729657), (1337, 0.0886956375462134), (1338, 0.39308698658674524), (1339, 0.41837876424813264), (1340, 0.24974957300086523), (1341, 0.17590857688509506), (1342, 0.22231792965060848), (1343, -0.1259729843295401), (1344, 0.8904114927931662), (1345, 0.19103554764904704), (1346, 0.37721840391733497), (1347, 0.3646261223576265), (1348, 0.8063478607808353), (1349, 0.014235177402180473), (1350, -0.018606703273001037), (1351, 0.26521096626805724), (1352, 0.12929164535535748), (1353, 0.21520709059693438), (1354, 0.04195218860449211), (1355, -0.22443320063919753), (1356, 0.14515612488468776), (1357, 0.8315828901695446), (1358, -0.14124540646524494), (1359, 0.6872976137950629), (1360, 0.019533972770144202), (1361, 0.0024573127955964994), (1362, 0.19102126600522273), (1363, -0.003266361492735928), (1364, -0.1763204730072371), (1365, 0.06994427909290768), (1366, -0.1570602648088141), (1367, 0.16073472634427954), (1368, -0.14807821537836574), (1369, 0.12026584087968643), (1370, -0.04144317068504813), (1371, 0.43466242875821764), (1372, -0.06821017414853213), (1373, -0.12141700876531326), (1374, -0.18769515872626538), (1375, 0.05313579848831985), (1376, -0.1606093434440088), (1377, -0.20630115109240654), (1378, -0.07391584295429886), (1379, -0.04096878184874791), (1380, -0.09887168645149796), (1381, 0.07315119720767209), (1382, -0.12573566319256066), (1383, -0.26790847901337206), (1384, 0.3885502734206624), (1385, -0.11181707633427991), (1386, 0.01855090969895214), (1387, 0.28415121965960016), (1388, -0.033088446012663565), (1389, -0.31266351586579916), (1390, -0.14920662335692714), (1391, 0.07771717183714831), (1392, 0.24742636174378516), (1393, 0.04454587839767148), (1394, 0.2644643935462758), (1395, -0.06786051807439009), (1396, -0.12233305383197733), (1397, -0.25583162949510035), (1398, -0.07244611047008577), (1399, -0.17344670459397363), (1400, -0.19491417741318826), (1401, 0.13154940845507318), (1402, -0.12429566629173437), (1403, -0.04269374120369565), (1404, -0.1834197584096459), (1405, -0.0731098691951243), (1406, 0.13272701039947887), (1407, 0.031725579504629786), (1408, -0.18273405052234873), (1409, -0.14168340230622672), (1410, 0.11072537496347916), (1411, 0.1640549771108799), (1412, 0.47860064347328746), (1413, -0.07210160873155487), (1414, -0.21225142310474776), (1415, -0.045719832643208884), (1416, 0.007886021507734115), (1417, 0.058028598716278655), (1418, -0.19054675194975934), (1419, -0.0485337436299276), (1420, 0.31361502212127385), (1421, 0.01938566600805574), (1422, -0.12120111190880924), (1423, -0.09075984728534278), (1424, -0.1444354363947104), (1425, -0.15025692587986264), (1426, -0.060238578955581906), (1427, 0.39492372005947124), (1428, -0.21768548353811132), (1429, -0.1541162039554739), (1430, 0.18301295797872974), (1431, -0.2576068904634669), (1432, -0.22007072220096263), (1433, -0.18874744887154585), (1434, 0.8329998171182124), (1435, 0.08093002847942654), (1436, 0.2773889772696701), (1437, 0.15718691248682928), (1438, 0.02032814983314706), (1439, 0.05298015727211279), (1440, -0.05542303078441685), (1441, 0.06828865372369344), (1442, -0.10626725147143841), (1443, 0.12271258824339902), (1444, 0.13941291546004952), (1445, 0.5176825731471765), (1446, 0.3614026820951913), (1447, -0.03796214303256025), (1448, -0.1520624169375956), (1449, -0.2610558986895673), (1450, -0.07871823934172775), (1451, -0.16216682845003905), (1452, 0.1222601415326504), (1453, -0.09275687666486099), (1454, -0.05934878746804113), (1455, -0.0567990365507152), (1456, -0.001074022861137898), (1457, 0.16679676816231628), (1458, -0.17948317677127995), (1459, -0.22998619238789997), (1460, 0.014305994642872804), (1461, -0.0454277978030811), (1462, 0.10529864706505848), (1463, -0.02373144347398365), (1464, 0.2538398052052572), (1465, -0.11501262456649482), (1466, -0.09774692317132122), (1467, -0.2726994487130961), (1468, -0.14238715481843822), (1469, -0.1789258097178588), (1470, 0.17755782173839393), (1471, -0.15153036874390663), (1472, -0.2578740608266529), (1473, -0.02479742899471703), (1474, 0.016498239532002752), (1475, 0.1412619541667182), (1476, 0.11435027235177359), (1477, -0.025746264808621758), (1478, 0.013129004391366194), (1479, -0.1204784091429848), (1480, -0.14909299118957245), (1481, 0.14600309028287384), (1482, 0.231610836715661), (1483, 0.1988781331281028), (1484, 0.2671005981677003), (1485, 0.5908537920914673), (1486, 0.31781167063115123), (1487, 0.03401998053706362), (1488, 0.5863516760847653), (1489, 0.15362414754742906), (1490, -0.1375062196191344), (1491, 0.8146465155905648), (1492, 0.29549728078628595), (1493, 0.5070935754102156), (1494, 0.5932209356432865), (1495, -0.14197148594192266), (1496, 0.49434371590230275), (1497, -0.19318777557648747), (1498, -0.20203182388288055), (1499, -0.0601797414855385), (1500, 0.5041764076739916), (1501, -0.1933455939992426), (1502, -0.13330088672822277), (1503, 0.25768496279420156), (1504, -0.10721140529409032), (1505, -0.10691676209592467), (1506, -0.1554078509751384), (1507, -0.22796044854774958), (1508, 0.03514277915777951), (1509, 0.15478040935955836), (1510, -0.011273890514860871), (1511, -0.004744287691804171), (1512, -0.16163416184377055), (1513, -0.15317109858070618), (1514, 0.0925977201981333), (1515, -0.007573352654274371), (1516, 0.07112858947523447), (1517, 0.22763083682375912), (1518, 0.3272417615108853), (1519, 0.05128304637837007), (1520, -0.22907404428409034), (1521, -0.0044471277817352715), (1522, -0.07402573929189962), (1523, 0.20179855952248085), (1524, 0.3654906308158492), (1525, 0.072413856978085), (1526, -0.006883155120767792), (1527, -0.16606646916864928), (1528, 0.03071429645457492), (1529, -0.13228561222425234), (1530, 0.0249498807549634), (1531, 0.21826036814456726), (1532, -0.006739597910399755), (1533, -0.059979421575489834), (1534, -0.06951324778265386), (1535, 0.05070187760966083), (1536, -0.1906014210046305), (1537, -0.06797689642303767), (1538, -0.016475501580409394), (1539, -0.28935630175694893), (1540, -0.13361213282007936), (1541, -0.09561710709123168), (1542, -0.09080288506711828), (1543, -0.3246390661731913), (1544, 0.06189305314935409), (1545, -0.06997184873417595), (1546, -0.12476758401067076), (1547, 0.11611812938952928), (1548, -0.13841593601037558), (1549, 0.02216103948680367), (1550, -0.16002607961733634), (1551, -0.21185521384368272), (1552, 0.17281955305423602), (1553, -0.010202883071612448), (1554, 0.05884525303987388), (1555, 0.1119577994265399), (1556, -0.08188045825895149), (1557, -0.14780217268238197), (1558, 0.20473046100775824), (1559, 0.17081779410105505), (1560, -0.05866358014203686), (1561, -0.049444997406827805), (1562, -0.21410599750016224), (1563, -0.03686251736395464), (1564, -0.26517571882710295), (1565, 0.05112688910984753), (1566, 0.44689129980918085), (1567, 0.043670322613048096), (1568, -0.29229914347666835), (1569, 0.15537210441648336), (1570, 0.14166737935746065), (1571, -0.2696622955147692), (1572, -0.364331884035678), (1573, -0.2990511472009074), (1574, -0.18173713486566223), (1575, -0.1412955727451887), (1576, -0.15237537509228538), (1577, -0.18456946323717224), (1578, -0.15807413542401652), (1579, 0.04549490071778533), (1580, -0.05560468233011372), (1581, -0.06624884473256691), (1582, -0.17918312872228526), (1583, 0.19001965833599807), (1584, -0.03147285173727913), (1585, -0.026031438417410922), (1586, 0.39239709897760006), (1587, -0.26419338491548383), (1588, -0.11440925393220247), (1589, 0.11325637350887045), (1590, 0.022640999950193436), (1591, 0.05010375063499997), (1592, -0.19844490907139808), (1593, 0.08926880911441441), (1594, 0.030712924884873108), (1595, 0.03146315540849634), (1596, -0.1509300987464484), (1597, 0.025672804694085113), (1598, -0.08168033857511976), (1599, -0.25922642670903884), (1600, -0.2450410231766147), (1601, -0.284838885863328), (1602, -0.06716257153225037), (1603, -0.06687714225960638), (1604, -0.07292159694273485), (1605, 0.1975878662830306), (1606, -0.07587527018350634), (1607, -0.17305370950340632), (1608, 0.25961917545535024), (1609, -0.13641210618648147), (1610, 0.04092478119196566), (1611, 0.04981506738716645), (1612, 0.03999526855187589), (1613, -0.15585864955036935), (1614, -0.21779565388987573), (1615, -0.24521488469536712), (1616, -0.043788770555790626), (1617, -0.3012807862150081), (1618, -0.15599248749981226), (1619, -0.2526735778971675), (1620, -0.16379792240811208), (1621, -0.19586053212015203), (1622, -0.22905103054869763), (1623, -0.10672326044067085), (1624, -0.3136457629696944), (1625, -0.1664226975999159), (1626, -0.19452807666788757), (1627, 0.1749934770203625), (1628, 0.008956486390967886), (1629, 0.02294225950070925), (1630, 0.02170922731242647), (1631, 0.011863245662634983), (1632, -0.003678321155938601), (1633, 0.02796654315517918), (1634, -0.1399408759929701), (1635, 0.14308981887617014), (1636, -0.0009543063554087213), (1637, 0.06766220618324362), (1638, 0.6114331014324823), (1639, -0.15812384285479122), (1640, -0.09515905879808904), (1641, -0.18849050153486013), (1642, -0.11882305180056307), (1643, 0.0954933275634263), (1644, 0.6076496694516283), (1645, -0.07415514234215949), (1646, 0.06056193381146435), (1647, -0.11963939982177256), (1648, 0.8300200060148942), (1649, 0.7499258851693817), (1650, -0.13794733165514758), (1651, 0.032504048160766144), (1652, -0.04585513941847716), (1653, -0.21734971899077035), (1654, -0.0972234894029837), (1655, 0.029124466932668056), (1656, -0.09363653225506044), (1657, 0.03442285672414812), (1658, -0.07936058515071674), (1659, -0.04921899804890176), (1660, -0.1446453698414453), (1661, 0.20261032774029844), (1662, -0.16244467336824858), (1663, -0.1263679889884343), (1664, -0.19761664375940713), (1665, -0.07060939085909834), (1666, -0.09749585756221511), (1667, -0.13212043607965546), (1668, 0.21861234321802459), (1669, 0.15585118628135378), (1670, -0.17624678668489568), (1671, -0.17043509155178807), (1672, -0.3041587456938613), (1673, -0.01939619589603765), (1674, -0.04141298490114747), (1675, -0.04374830863429165), (1676, -0.0860228361281487), (1677, -0.0669930625914265), (1678, 0.05257397978350529), (1679, 0.08108373246224188), (1680, 0.3542987529044814), (1681, 0.1059173595488233), (1682, 0.015543545443248145), (1683, 0.06818620742020028), (1684, -0.23453800294182323), (1685, -0.10609741569372436), (1686, -0.13294177137043445), (1687, 0.20546168400319062), (1688, -0.18698758126961063), (1689, -0.013373831237794355), (1690, -0.08899874279001142), (1691, 0.22142804480805506), (1692, 0.03555296906598458), (1693, 0.05570511298537017), (1694, 0.0498689311577729), (1695, -0.09946862025855317), (1696, -0.06517023842350214), (1697, 0.0004060067719824935), (1698, 0.2037656539791018), (1699, 0.21099063401836918), (1700, 0.208985105125573), (1701, 0.26899273475055835), (1702, -0.1219518123251651), (1703, -0.21351432222639444), (1704, -0.09689798974231452), (1705, -0.14846133738678544), (1706, 0.07855793304828122), (1707, -0.16264999333007568), (1708, 0.11214651395954525), (1709, 0.10894412934685793), (1710, 0.0009053192211042135), (1711, -0.2982625809669633), (1712, -0.11905979674911758), (1713, 0.08487199438264321), (1714, 0.08696761254044862), (1715, -0.21789773667644768), (1716, -0.20148628794040882), (1717, -0.06765541762292851), (1718, -0.29841520283631956), (1719, 0.05123188435235093), (1720, -0.021809289147749704), (1721, -0.12864931915648156), (1722, -0.03671005825125739), (1723, -0.10711903701248729), (1724, -0.33664324978302784), (1725, 0.13845977305716206), (1726, -0.12190252612077025), (1727, -0.087646623858895), (1728, -0.19237181035340756), (1729, 0.41600967829424157), (1730, -0.012887590925557364), (1731, -0.15045825360333967), (1732, -0.08621082562502706), (1733, -0.1740582882215776), (1734, 0.03365581918070537), (1735, -0.14572858240739509), (1736, -0.18119444576002663), (1737, -0.30544434242477536), (1738, 0.8605290319859894), (1739, 0.024760870981713357), (1740, -0.05137215875591131), (1741, 0.07066090323984084), (1742, 0.41262900558994375), (1743, 0.24341342892715784), (1744, 0.12262294183884744), (1745, -0.23187811814878131), (1746, 0.10293639643310892), (1747, 0.15049331906643587), (1748, -0.21228557825316702), (1749, -0.1484751977593051), (1750, -0.2464320809163856), (1751, -0.03578915512494063), (1752, 0.0057746672250024115), (1753, -0.21528931160688533), (1754, -0.17993982884192083), (1755, -0.07149517532555402), (1756, 0.006510869639975611), (1757, -0.13537874614181616), (1758, -0.19401838901910165), (1759, -0.28553785932994924), (1760, -0.05562130499089291), (1761, 0.01698451732914782), (1762, -0.14039786139652477), (1763, -0.06509221710918435), (1764, 0.17417350810268234), (1765, -0.21803851165214877), (1766, -0.30343049137331934), (1767, 0.06221234042929814), (1768, -0.08957386653570251), (1769, 0.026018435908137235), (1770, 0.03933424285044422), (1771, -0.053714178325213406), (1772, 0.06790377409153922), (1773, -0.23995541406588564), (1774, -0.17255777521373797), (1775, -0.03857113920846862), (1776, -0.16732435163463538), (1777, -0.15525176150870643), (1778, 0.005893622463267758), (1779, -0.059323450264958506), (1780, -0.0024223631986148527), (1781, -0.0555057736041571), (1782, -0.10394145876206518), (1783, -0.08518150085497478), (1784, 0.028046422876758167), (1785, 0.12125200242358214), (1786, -0.06658160133140584), (1787, 0.7406489580356886), (1788, -0.1643427521114203), (1789, -0.1854451786493137), (1790, -0.21940156322415724), (1791, -0.15412797399931522), (1792, 0.13545779831629295), (1793, 0.8342391267940522), (1794, 0.09830689756400057), (1795, -0.1391837915693753), (1796, 0.054100608333996124), (1797, -0.14003699587610316), (1798, 0.08593803574914255), (1799, 0.3698875110443498), (1800, 0.6152956860403508), (1801, -0.1874843422966511), (1802, -0.05914590685457782), (1803, 0.010450714281244776), (1804, -0.20542934905273086), (1805, -0.17751064418229517), (1806, 0.3027746898680564), (1807, 0.12103469414336446), (1808, -0.18007779862663026), (1809, -0.008278592504661448), (1810, 0.0077102434698555), (1811, -0.1548071045401397), (1812, -0.10885145566141041), (1813, 0.22142921237924823), (1814, 0.11264214832775887), (1815, -0.07361914282244354), (1816, 0.30304092985499576), (1817, -0.19209779829429147), (1818, -0.054277861986477355), (1819, -0.09701501559272341), (1820, -0.2521069678647565), (1821, 0.25098379839131607), (1822, -0.120482319659013), (1823, 0.04519500746277771), (1824, -0.1877467048987145), (1825, -0.08148694029291106), (1826, -0.1262735056150358), (1827, -0.16472987542773015), (1828, -0.19441250775586819), (1829, 0.0503404418232218), (1830, 0.1295079427128899), (1831, -0.14570987177327188), (1832, -0.15048987716120657), (1833, 0.047724128291090254), (1834, 0.04949251346443617), (1835, -0.05430823512083541), (1836, 0.14790265048788914), (1837, -0.030768144999266674), (1838, -0.25866990304318255), (1839, -0.017455362449787872), (1840, -0.092907702819364), (1841, -0.13209955457767567), (1842, -0.2943649914095513), (1843, -0.14905439484122032), (1844, -0.10718091217290056), (1845, -0.04345731024371303), (1846, -0.2042765103265235), (1847, -0.08823371740357637), (1848, -0.19163744161203342), (1849, 0.10073634519765183), (1850, -0.16601574805715533), (1851, -0.1092898844953794), (1852, 0.0494211583060597), (1853, -0.19813352298487655), (1854, -0.3072589271225774), (1855, 0.011305115377558907), (1856, 0.10437533614673705), (1857, 0.17965630160028964), (1858, -0.17235549496285044), (1859, -0.27971004050288323), (1860, -0.3624658600418491), (1861, 0.2631401981743121), (1862, 0.0044311861651518975), (1863, 0.20060812705762268), (1864, 0.02404063767335863), (1865, -0.21367724200971797), (1866, -0.23493953741313015), (1867, -0.11434165222267915), (1868, -0.3560981216471656), (1869, 0.4711021406283264), (1870, 0.07265176415311163), (1871, 0.1333737867807469), (1872, -0.31124465382976496), (1873, 0.14484237980565545), (1874, 0.03148388198184172), (1875, -0.11330566700160144), (1876, -0.18508262820962565), (1877, -0.1777325957840369), (1878, -0.031993829097675924), (1879, -0.12989704164892923), (1880, -0.27687378338075924), (1881, -0.12983347317470678), (1882, 0.019915981235605822), (1883, 0.3376660161783689), (1884, -0.22700076851167808), (1885, -0.24779195309618507), (1886, -0.05577879823584028), (1887, 0.27900201342005465), (1888, 0.1054228139837638), (1889, -0.1473730446786259), (1890, 0.0221302543154612), (1891, 0.5149505546599678), (1892, -0.042807716099837745), (1893, -0.01907372260378617), (1894, -0.009372181079607316), (1895, 0.05146755770661651), (1896, -0.05922344295497912), (1897, -0.14510266213297776), (1898, -0.14635551515207262), (1899, 0.3277650147195727), (1900, 0.028949924315560933), (1901, -0.11362481279310217), (1902, -0.2136705618876409), (1903, 0.07446470690052921), (1904, -0.2096798282451836), (1905, 0.08740632149526813), (1906, -0.24214733938575864), (1907, -0.2706713517557324)]\n"
     ]
    },
    {
     "data": {
      "text/plain": [
       "575     chronicles narnia chronicles narnia\n",
       "515       confessions shopaholic shopaholic\n",
       "1344                          pelican brief\n",
       "380             jurassic park jurassic park\n",
       "481                                 macbeth\n",
       "6                                  mice men\n",
       "730                                 othello\n",
       "1082             red dragon hannibal lecter\n",
       "1738                            holes holes\n",
       "995                 left behind left behind\n",
       "Name: title, dtype: object"
      ]
     },
     "execution_count": 98,
     "metadata": {},
     "output_type": "execute_result"
    }
   ],
   "source": [
    "content_recommender('iliad', \n",
    "                    cosine_sim,\n",
    "                    df_start,\n",
    "                    indices2)"
   ]
  }
 ],
 "metadata": {
  "kernelspec": {
   "display_name": "Python 3 (ipykernel)",
   "language": "python",
   "name": "python3"
  },
  "language_info": {
   "codemirror_mode": {
    "name": "ipython",
    "version": 3
   },
   "file_extension": ".py",
   "mimetype": "text/x-python",
   "name": "python",
   "nbconvert_exporter": "python",
   "pygments_lexer": "ipython3",
   "version": "3.9.12"
  },
  "orig_nbformat": 4,
  "vscode": {
   "interpreter": {
    "hash": "93a9c66dfd5d2923d15319bd54cc7f9080daf172a25a5d5a36811164e8a6ad0e"
   }
  }
 },
 "nbformat": 4,
 "nbformat_minor": 2
}
