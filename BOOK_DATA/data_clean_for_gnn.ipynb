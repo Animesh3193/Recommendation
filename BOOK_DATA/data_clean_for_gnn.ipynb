{
 "cells": [
  {
   "cell_type": "code",
   "execution_count": 76,
   "metadata": {},
   "outputs": [],
   "source": [
    "import os\n",
    "import re\n",
    "import json\n",
    "import ast\n",
    "\n",
    "from pathlib import Path\n",
    "from copy import deepcopy\n",
    "from datetime import date, datetime, timedelta\n",
    "\n",
    "\n",
    "import numpy as np\n",
    "import pandas as pd\n",
    "import seaborn as sns\n",
    "import sklearn.metrics as metrics\n",
    "from sklearn.model_selection import train_test_split\n",
    "from sklearn.preprocessing import StandardScaler\n",
    "\n",
    "import nltk\n",
    "from nltk.tokenize import RegexpTokenizer\n",
    "from nltk.corpus import stopwords\n",
    "\n",
    "from pandarallel import pandarallel\n",
    "\n",
    "import dgl\n",
    "import torch"
   ]
  },
  {
   "cell_type": "code",
   "execution_count": 28,
   "metadata": {},
   "outputs": [
    {
     "name": "stdout",
     "output_type": "stream",
     "text": [
      "INFO: Pandarallel will run on 4 workers.\n",
      "INFO: Pandarallel will use Memory file system to transfer data between the main process and workers.\n"
     ]
    }
   ],
   "source": [
    "%matplotlib inline\n",
    "pandarallel.initialize(progress_bar=True)"
   ]
  },
  {
   "cell_type": "code",
   "execution_count": 4,
   "metadata": {},
   "outputs": [
    {
     "name": "stderr",
     "output_type": "stream",
     "text": [
      "b'Skipping line 6452: expected 8 fields, saw 9\\nSkipping line 43667: expected 8 fields, saw 10\\nSkipping line 51751: expected 8 fields, saw 9\\n'\n",
      "b'Skipping line 92038: expected 8 fields, saw 9\\nSkipping line 104319: expected 8 fields, saw 9\\nSkipping line 121768: expected 8 fields, saw 9\\n'\n",
      "b'Skipping line 144058: expected 8 fields, saw 9\\nSkipping line 150789: expected 8 fields, saw 9\\nSkipping line 157128: expected 8 fields, saw 9\\nSkipping line 180189: expected 8 fields, saw 9\\nSkipping line 185738: expected 8 fields, saw 9\\n'\n",
      "b'Skipping line 209388: expected 8 fields, saw 9\\nSkipping line 220626: expected 8 fields, saw 9\\nSkipping line 227933: expected 8 fields, saw 11\\nSkipping line 228957: expected 8 fields, saw 10\\nSkipping line 245933: expected 8 fields, saw 9\\nSkipping line 251296: expected 8 fields, saw 9\\nSkipping line 259941: expected 8 fields, saw 9\\nSkipping line 261529: expected 8 fields, saw 9\\n'\n",
      "/home/chinu/.conda/envs/mlenv/lib/python3.9/site-packages/IPython/core/interactiveshell.py:3106: DtypeWarning: Columns (3) have mixed types.Specify dtype option on import or set low_memory=False.\n",
      "  has_raised = await self.run_ast_nodes(code_ast.body, cell_name,\n"
     ]
    }
   ],
   "source": [
    "df_book = pd.read_csv('datasets/kaggle_books.csv', sep=\";\", error_bad_lines=False, encoding=\"latin-1\")\n",
    "df_ratings = pd.read_csv('datasets/kaggle_ratings.csv', sep=\";\", error_bad_lines=False, encoding=\"latin-1\")\n",
    "df_user = pd.read_csv('datasets/kaggle_users.csv', sep=\";\", error_bad_lines=False, encoding=\"latin-1\")"
   ]
  },
  {
   "cell_type": "code",
   "execution_count": 38,
   "metadata": {},
   "outputs": [
    {
     "name": "stdout",
     "output_type": "stream",
     "text": [
      "Shape of the Book DF is :  (271360, 5)\n"
     ]
    },
    {
     "data": {
      "text/html": [
       "<div>\n",
       "<style scoped>\n",
       "    .dataframe tbody tr th:only-of-type {\n",
       "        vertical-align: middle;\n",
       "    }\n",
       "\n",
       "    .dataframe tbody tr th {\n",
       "        vertical-align: top;\n",
       "    }\n",
       "\n",
       "    .dataframe thead th {\n",
       "        text-align: right;\n",
       "    }\n",
       "</style>\n",
       "<table border=\"1\" class=\"dataframe\">\n",
       "  <thead>\n",
       "    <tr style=\"text-align: right;\">\n",
       "      <th></th>\n",
       "      <th>ISBN</th>\n",
       "      <th>publication_year</th>\n",
       "      <th>authors</th>\n",
       "      <th>title</th>\n",
       "      <th>publishers</th>\n",
       "    </tr>\n",
       "  </thead>\n",
       "  <tbody>\n",
       "    <tr>\n",
       "      <th>0</th>\n",
       "      <td>0195153448</td>\n",
       "      <td>2002</td>\n",
       "      <td>mark morford</td>\n",
       "      <td>classical mythology</td>\n",
       "      <td>oxford university press</td>\n",
       "    </tr>\n",
       "    <tr>\n",
       "      <th>1</th>\n",
       "      <td>0002005018</td>\n",
       "      <td>2001</td>\n",
       "      <td>richard bruce wright</td>\n",
       "      <td>clara callan</td>\n",
       "      <td>harperflamingo canada</td>\n",
       "    </tr>\n",
       "    <tr>\n",
       "      <th>2</th>\n",
       "      <td>0060973129</td>\n",
       "      <td>1991</td>\n",
       "      <td>carlo este</td>\n",
       "      <td>decision normandy</td>\n",
       "      <td>harperperennial</td>\n",
       "    </tr>\n",
       "    <tr>\n",
       "      <th>3</th>\n",
       "      <td>0374157065</td>\n",
       "      <td>1999</td>\n",
       "      <td>gina bari kolata</td>\n",
       "      <td>flu story great influenza pandemic 1918 search...</td>\n",
       "      <td>farrar straus giroux</td>\n",
       "    </tr>\n",
       "    <tr>\n",
       "      <th>4</th>\n",
       "      <td>0393045218</td>\n",
       "      <td>1999</td>\n",
       "      <td>barber</td>\n",
       "      <td>mummies urumchi</td>\n",
       "      <td>norton amp company</td>\n",
       "    </tr>\n",
       "  </tbody>\n",
       "</table>\n",
       "</div>"
      ],
      "text/plain": [
       "         ISBN publication_year               authors  \\\n",
       "0  0195153448             2002          mark morford   \n",
       "1  0002005018             2001  richard bruce wright   \n",
       "2  0060973129             1991            carlo este   \n",
       "3  0374157065             1999      gina bari kolata   \n",
       "4  0393045218             1999                barber   \n",
       "\n",
       "                                               title               publishers  \n",
       "0                                classical mythology  oxford university press  \n",
       "1                                       clara callan    harperflamingo canada  \n",
       "2                                  decision normandy          harperperennial  \n",
       "3  flu story great influenza pandemic 1918 search...     farrar straus giroux  \n",
       "4                                    mummies urumchi       norton amp company  "
      ]
     },
     "execution_count": 38,
     "metadata": {},
     "output_type": "execute_result"
    }
   ],
   "source": [
    "print(\"Shape of the Book DF is : \", df_book.shape)\n",
    "df_book.head()"
   ]
  },
  {
   "cell_type": "code",
   "execution_count": 7,
   "metadata": {},
   "outputs": [
    {
     "name": "stdout",
     "output_type": "stream",
     "text": [
      "Shape of the Ratings DF is :  (1149780, 3)\n"
     ]
    },
    {
     "data": {
      "text/html": [
       "<div>\n",
       "<style scoped>\n",
       "    .dataframe tbody tr th:only-of-type {\n",
       "        vertical-align: middle;\n",
       "    }\n",
       "\n",
       "    .dataframe tbody tr th {\n",
       "        vertical-align: top;\n",
       "    }\n",
       "\n",
       "    .dataframe thead th {\n",
       "        text-align: right;\n",
       "    }\n",
       "</style>\n",
       "<table border=\"1\" class=\"dataframe\">\n",
       "  <thead>\n",
       "    <tr style=\"text-align: right;\">\n",
       "      <th></th>\n",
       "      <th>User-ID</th>\n",
       "      <th>ISBN</th>\n",
       "      <th>Book-Rating</th>\n",
       "    </tr>\n",
       "  </thead>\n",
       "  <tbody>\n",
       "    <tr>\n",
       "      <th>0</th>\n",
       "      <td>276725</td>\n",
       "      <td>034545104X</td>\n",
       "      <td>0</td>\n",
       "    </tr>\n",
       "    <tr>\n",
       "      <th>1</th>\n",
       "      <td>276726</td>\n",
       "      <td>0155061224</td>\n",
       "      <td>5</td>\n",
       "    </tr>\n",
       "    <tr>\n",
       "      <th>2</th>\n",
       "      <td>276727</td>\n",
       "      <td>0446520802</td>\n",
       "      <td>0</td>\n",
       "    </tr>\n",
       "    <tr>\n",
       "      <th>3</th>\n",
       "      <td>276729</td>\n",
       "      <td>052165615X</td>\n",
       "      <td>3</td>\n",
       "    </tr>\n",
       "    <tr>\n",
       "      <th>4</th>\n",
       "      <td>276729</td>\n",
       "      <td>0521795028</td>\n",
       "      <td>6</td>\n",
       "    </tr>\n",
       "  </tbody>\n",
       "</table>\n",
       "</div>"
      ],
      "text/plain": [
       "   User-ID        ISBN  Book-Rating\n",
       "0   276725  034545104X            0\n",
       "1   276726  0155061224            5\n",
       "2   276727  0446520802            0\n",
       "3   276729  052165615X            3\n",
       "4   276729  0521795028            6"
      ]
     },
     "execution_count": 7,
     "metadata": {},
     "output_type": "execute_result"
    }
   ],
   "source": [
    "print(\"Shape of the Ratings DF is : \", df_ratings.shape)\n",
    "df_ratings.head()"
   ]
  },
  {
   "cell_type": "code",
   "execution_count": 44,
   "metadata": {},
   "outputs": [
    {
     "name": "stdout",
     "output_type": "stream",
     "text": [
      "Shape of the User DF is :  (278858, 4)\n"
     ]
    },
    {
     "data": {
      "text/html": [
       "<div>\n",
       "<style scoped>\n",
       "    .dataframe tbody tr th:only-of-type {\n",
       "        vertical-align: middle;\n",
       "    }\n",
       "\n",
       "    .dataframe tbody tr th {\n",
       "        vertical-align: top;\n",
       "    }\n",
       "\n",
       "    .dataframe thead th {\n",
       "        text-align: right;\n",
       "    }\n",
       "</style>\n",
       "<table border=\"1\" class=\"dataframe\">\n",
       "  <thead>\n",
       "    <tr style=\"text-align: right;\">\n",
       "      <th></th>\n",
       "      <th>User-ID</th>\n",
       "      <th>Location</th>\n",
       "      <th>Age</th>\n",
       "      <th>location</th>\n",
       "    </tr>\n",
       "  </thead>\n",
       "  <tbody>\n",
       "    <tr>\n",
       "      <th>0</th>\n",
       "      <td>1</td>\n",
       "      <td>nyc, new york, usa</td>\n",
       "      <td>NaN</td>\n",
       "      <td>nyc new york usa</td>\n",
       "    </tr>\n",
       "    <tr>\n",
       "      <th>1</th>\n",
       "      <td>2</td>\n",
       "      <td>stockton, california, usa</td>\n",
       "      <td>18.0</td>\n",
       "      <td>stockton california usa</td>\n",
       "    </tr>\n",
       "    <tr>\n",
       "      <th>2</th>\n",
       "      <td>3</td>\n",
       "      <td>moscow, yukon territory, russia</td>\n",
       "      <td>NaN</td>\n",
       "      <td>moscow yukon territory russia</td>\n",
       "    </tr>\n",
       "    <tr>\n",
       "      <th>3</th>\n",
       "      <td>4</td>\n",
       "      <td>porto, v.n.gaia, portugal</td>\n",
       "      <td>17.0</td>\n",
       "      <td>porto gaia portugal</td>\n",
       "    </tr>\n",
       "    <tr>\n",
       "      <th>4</th>\n",
       "      <td>5</td>\n",
       "      <td>farnborough, hants, united kingdom</td>\n",
       "      <td>NaN</td>\n",
       "      <td>farnborough hants united kingdom</td>\n",
       "    </tr>\n",
       "  </tbody>\n",
       "</table>\n",
       "</div>"
      ],
      "text/plain": [
       "   User-ID                            Location   Age  \\\n",
       "0        1                  nyc, new york, usa   NaN   \n",
       "1        2           stockton, california, usa  18.0   \n",
       "2        3     moscow, yukon territory, russia   NaN   \n",
       "3        4           porto, v.n.gaia, portugal  17.0   \n",
       "4        5  farnborough, hants, united kingdom   NaN   \n",
       "\n",
       "                           location  \n",
       "0                  nyc new york usa  \n",
       "1           stockton california usa  \n",
       "2     moscow yukon territory russia  \n",
       "3               porto gaia portugal  \n",
       "4  farnborough hants united kingdom  "
      ]
     },
     "execution_count": 44,
     "metadata": {},
     "output_type": "execute_result"
    }
   ],
   "source": [
    "print(\"Shape of the User DF is : \", df_user.shape)\n",
    "df_user.head()"
   ]
  },
  {
   "cell_type": "code",
   "execution_count": 10,
   "metadata": {},
   "outputs": [],
   "source": [
    "# df_book.columns\n",
    "df_book.drop(columns=['Image-URL-S', 'Image-URL-M', 'Image-URL-L',], inplace=True)"
   ]
  },
  {
   "cell_type": "code",
   "execution_count": 15,
   "metadata": {},
   "outputs": [
    {
     "data": {
      "text/html": [
       "<div>\n",
       "<style scoped>\n",
       "    .dataframe tbody tr th:only-of-type {\n",
       "        vertical-align: middle;\n",
       "    }\n",
       "\n",
       "    .dataframe tbody tr th {\n",
       "        vertical-align: top;\n",
       "    }\n",
       "\n",
       "    .dataframe thead th {\n",
       "        text-align: right;\n",
       "    }\n",
       "</style>\n",
       "<table border=\"1\" class=\"dataframe\">\n",
       "  <thead>\n",
       "    <tr style=\"text-align: right;\">\n",
       "      <th></th>\n",
       "      <th>User-ID</th>\n",
       "      <th>Age</th>\n",
       "    </tr>\n",
       "  </thead>\n",
       "  <tbody>\n",
       "    <tr>\n",
       "      <th>count</th>\n",
       "      <td>278858.00000</td>\n",
       "      <td>168096.000000</td>\n",
       "    </tr>\n",
       "    <tr>\n",
       "      <th>mean</th>\n",
       "      <td>139429.50000</td>\n",
       "      <td>34.751434</td>\n",
       "    </tr>\n",
       "    <tr>\n",
       "      <th>std</th>\n",
       "      <td>80499.51502</td>\n",
       "      <td>14.428097</td>\n",
       "    </tr>\n",
       "    <tr>\n",
       "      <th>min</th>\n",
       "      <td>1.00000</td>\n",
       "      <td>0.000000</td>\n",
       "    </tr>\n",
       "    <tr>\n",
       "      <th>25%</th>\n",
       "      <td>69715.25000</td>\n",
       "      <td>24.000000</td>\n",
       "    </tr>\n",
       "    <tr>\n",
       "      <th>50%</th>\n",
       "      <td>139429.50000</td>\n",
       "      <td>32.000000</td>\n",
       "    </tr>\n",
       "    <tr>\n",
       "      <th>75%</th>\n",
       "      <td>209143.75000</td>\n",
       "      <td>44.000000</td>\n",
       "    </tr>\n",
       "    <tr>\n",
       "      <th>max</th>\n",
       "      <td>278858.00000</td>\n",
       "      <td>244.000000</td>\n",
       "    </tr>\n",
       "  </tbody>\n",
       "</table>\n",
       "</div>"
      ],
      "text/plain": [
       "            User-ID            Age\n",
       "count  278858.00000  168096.000000\n",
       "mean   139429.50000      34.751434\n",
       "std     80499.51502      14.428097\n",
       "min         1.00000       0.000000\n",
       "25%     69715.25000      24.000000\n",
       "50%    139429.50000      32.000000\n",
       "75%    209143.75000      44.000000\n",
       "max    278858.00000     244.000000"
      ]
     },
     "execution_count": 15,
     "metadata": {},
     "output_type": "execute_result"
    }
   ],
   "source": [
    "df_user.describe()"
   ]
  },
  {
   "cell_type": "code",
   "execution_count": 18,
   "metadata": {},
   "outputs": [
    {
     "data": {
      "text/plain": [
       "<seaborn.axisgrid.FacetGrid at 0x7fe29cacb520>"
      ]
     },
     "execution_count": 18,
     "metadata": {},
     "output_type": "execute_result"
    },
    {
     "data": {
      "image/png": "[encoded data removed]",
      "text/plain": [
       "<Figure size 360x360 with 1 Axes>"
      ]
     },
     "metadata": {
      "needs_background": "light"
     },
     "output_type": "display_data"
    }
   ],
   "source": [
    "sns.displot(df_user['Age'], bins=20)"
   ]
  },
  {
   "cell_type": "code",
   "execution_count": 19,
   "metadata": {},
   "outputs": [
    {
     "data": {
      "text/plain": [
       "<AxesSubplot:xlabel='Age'>"
      ]
     },
     "execution_count": 19,
     "metadata": {},
     "output_type": "execute_result"
    },
    {
     "data": {
      "image/png": "[encoded data removed]",
      "text/plain": [
       "<Figure size 432x288 with 1 Axes>"
      ]
     },
     "metadata": {},
     "output_type": "display_data"
    }
   ],
   "source": [
    "sns.set_theme(style=\"whitegrid\")\n",
    "sns.boxplot(x=df_user[\"Age\"])"
   ]
  },
  {
   "cell_type": "code",
   "execution_count": 25,
   "metadata": {},
   "outputs": [],
   "source": [
    "def pre_process(string_value):\n",
    "    sentence = str(string_value)\n",
    "    cleantext = re.sub(r\"[^a-zA-Z0-9]+\", ' ', sentence.lower().strip())\n",
    "    rem_url=re.sub(r'http\\S+', '',cleantext)\n",
    "    tokenizer = RegexpTokenizer(r'\\w+')\n",
    "    tokens = tokenizer.tokenize(rem_url)  \n",
    "    filtered_words = [w for w in tokens if len(w) > 2 if not w in stopwords.words('english')]\n",
    "    return \" \".join(filtered_words)"
   ]
  },
  {
   "cell_type": "code",
   "execution_count": 30,
   "metadata": {},
   "outputs": [
    {
     "data": {
      "application/vnd.jupyter.widget-view+json": {
       "model_id": "7e3d28b72f9e4f5a8d1ab03008d6d68d",
       "version_major": 2,
       "version_minor": 0
      },
      "text/plain": [
       "VBox(children=(HBox(children=(IntProgress(value=0, description='0.00%', max=67840), Label(value='0 / 67840')))…"
      ]
     },
     "metadata": {},
     "output_type": "display_data"
    }
   ],
   "source": [
    "df_book[\"authors\"] = df_book['Book-Author'].parallel_apply(pre_process)"
   ]
  },
  {
   "cell_type": "code",
   "execution_count": 32,
   "metadata": {},
   "outputs": [
    {
     "data": {
      "application/vnd.jupyter.widget-view+json": {
       "model_id": "77cab6ab5fa24fd08524a15ca727db7c",
       "version_major": 2,
       "version_minor": 0
      },
      "text/plain": [
       "VBox(children=(HBox(children=(IntProgress(value=0, description='0.00%', max=67840), Label(value='0 / 67840')))…"
      ]
     },
     "metadata": {},
     "output_type": "display_data"
    }
   ],
   "source": [
    "df_book[\"title\"] = df_book['Book-Title'].parallel_apply(pre_process)"
   ]
  },
  {
   "cell_type": "code",
   "execution_count": 34,
   "metadata": {},
   "outputs": [
    {
     "data": {
      "application/vnd.jupyter.widget-view+json": {
       "model_id": "f46bc5820544479095ae81821b086810",
       "version_major": 2,
       "version_minor": 0
      },
      "text/plain": [
       "VBox(children=(HBox(children=(IntProgress(value=0, description='0.00%', max=67840), Label(value='0 / 67840')))…"
      ]
     },
     "metadata": {},
     "output_type": "display_data"
    }
   ],
   "source": [
    "df_book[\"publishers\"] = df_book['Publisher'].parallel_apply(pre_process)"
   ]
  },
  {
   "cell_type": "code",
   "execution_count": 37,
   "metadata": {},
   "outputs": [],
   "source": [
    "df_book.rename(columns={\"Year-Of-Publication\": \"publication_year\"}, inplace=True)\n",
    "df_book.drop(columns=['Book-Title', 'Book-Author', 'Publisher',], inplace=True)"
   ]
  },
  {
   "cell_type": "code",
   "execution_count": 41,
   "metadata": {},
   "outputs": [
    {
     "name": "stdout",
     "output_type": "stream",
     "text": [
      "<class 'pandas.core.frame.DataFrame'>\n",
      "RangeIndex: 1149780 entries, 0 to 1149779\n",
      "Data columns (total 3 columns):\n",
      " #   Column       Non-Null Count    Dtype \n",
      "---  ------       --------------    ----- \n",
      " 0   User-ID      1149780 non-null  int64 \n",
      " 1   ISBN         1149780 non-null  object\n",
      " 2   Book-Rating  1149780 non-null  int64 \n",
      "dtypes: int64(2), object(1)\n",
      "memory usage: 26.3+ MB\n"
     ]
    }
   ],
   "source": [
    "df_ratings.info()"
   ]
  },
  {
   "cell_type": "code",
   "execution_count": 58,
   "metadata": {},
   "outputs": [
    {
     "data": {
      "text/plain": [
       "User-ID          0\n",
       "Location         0\n",
       "Age         110762\n",
       "location         0\n",
       "dtype: int64"
      ]
     },
     "execution_count": 58,
     "metadata": {},
     "output_type": "execute_result"
    }
   ],
   "source": [
    "df_user.isnull().sum()"
   ]
  },
  {
   "cell_type": "code",
   "execution_count": 43,
   "metadata": {},
   "outputs": [
    {
     "data": {
      "application/vnd.jupyter.widget-view+json": {
       "model_id": "fd065d7b47784410b1664536285bf1fa",
       "version_major": 2,
       "version_minor": 0
      },
      "text/plain": [
       "VBox(children=(HBox(children=(IntProgress(value=0, description='0.00%', max=69715), Label(value='0 / 69715')))…"
      ]
     },
     "metadata": {},
     "output_type": "display_data"
    }
   ],
   "source": [
    "df_user['location'] = df_user['Location'].parallel_apply(pre_process)"
   ]
  },
  {
   "cell_type": "code",
   "execution_count": 56,
   "metadata": {},
   "outputs": [
    {
     "name": "stdout",
     "output_type": "stream",
     "text": [
      "1578 ++ 231.0\n",
      "replaced value is :  231.0\n",
      "8457 ++ 230.0\n",
      "replaced value is :  230.0\n",
      "8781 ++ 239.0\n",
      "replaced value is :  239.0\n",
      "11325 ++ 148.0\n",
      "replaced value is :  148.0\n",
      "12691 ++ 151.0\n",
      "replaced value is :  151.0\n",
      "13272 ++ 201.0\n",
      "replaced value is :  201.0\n",
      "17902 ++ 123.0\n",
      "replaced value is :  123.0\n",
      "20856 ++ 244.0\n",
      "replaced value is :  244.0\n",
      "24410 ++ 133.0\n",
      "replaced value is :  133.0\n",
      "27717 ++ 123.0\n",
      "replaced value is :  123.0\n",
      "28090 ++ 128.0\n",
      "replaced value is :  128.0\n",
      "30589 ++ 141.0\n",
      "replaced value is :  141.0\n",
      "35860 ++ 148.0\n",
      "replaced value is :  148.0\n",
      "37834 ++ 219.0\n",
      "replaced value is :  219.0\n",
      "41383 ++ 124.0\n",
      "replaced value is :  124.0\n",
      "45688 ++ 175.0\n",
      "replaced value is :  175.0\n",
      "46263 ++ 141.0\n",
      "replaced value is :  141.0\n",
      "48098 ++ 172.0\n",
      "replaced value is :  172.0\n",
      "48280 ++ 124.0\n",
      "replaced value is :  124.0\n",
      "50768 ++ 133.0\n",
      "replaced value is :  133.0\n",
      "52471 ++ 209.0\n",
      "replaced value is :  209.0\n",
      "52648 ++ 212.0\n",
      "replaced value is :  212.0\n",
      "58285 ++ 237.0\n",
      "replaced value is :  237.0\n",
      "61103 ++ 162.0\n",
      "replaced value is :  162.0\n",
      "63665 ++ 156.0\n",
      "replaced value is :  156.0\n",
      "71799 ++ 136.0\n",
      "replaced value is :  136.0\n",
      "73698 ++ 123.0\n",
      "replaced value is :  123.0\n",
      "76864 ++ 209.0\n",
      "replaced value is :  209.0\n",
      "83882 ++ 123.0\n",
      "replaced value is :  123.0\n",
      "85846 ++ 123.0\n",
      "replaced value is :  123.0\n",
      "86720 ++ 124.0\n",
      "replaced value is :  124.0\n",
      "90765 ++ 136.0\n",
      "replaced value is :  136.0\n",
      "92857 ++ 210.0\n",
      "replaced value is :  210.0\n",
      "96713 ++ 141.0\n",
      "replaced value is :  141.0\n",
      "101667 ++ 151.0\n",
      "replaced value is :  151.0\n",
      "102627 ++ 199.0\n",
      "replaced value is :  199.0\n",
      "103246 ++ 148.0\n",
      "replaced value is :  148.0\n",
      "104815 ++ 147.0\n",
      "replaced value is :  147.0\n",
      "119281 ++ 168.0\n",
      "replaced value is :  168.0\n",
      "121725 ++ 148.0\n",
      "replaced value is :  148.0\n",
      "122559 ++ 132.0\n",
      "replaced value is :  132.0\n",
      "126167 ++ 159.0\n",
      "replaced value is :  159.0\n",
      "132667 ++ 186.0\n",
      "replaced value is :  186.0\n",
      "136356 ++ 152.0\n",
      "replaced value is :  152.0\n",
      "146284 ++ 123.0\n",
      "replaced value is :  123.0\n",
      "156353 ++ 210.0\n",
      "replaced value is :  210.0\n",
      "160894 ++ 200.0\n",
      "replaced value is :  200.0\n",
      "163654 ++ 199.0\n",
      "replaced value is :  199.0\n",
      "163826 ++ 226.0\n",
      "replaced value is :  226.0\n",
      "165823 ++ 137.0\n",
      "replaced value is :  137.0\n",
      "168716 ++ 207.0\n",
      "replaced value is :  207.0\n",
      "172057 ++ 229.0\n",
      "replaced value is :  229.0\n",
      "173018 ++ 138.0\n",
      "replaced value is :  138.0\n",
      "182769 ++ 228.0\n",
      "replaced value is :  228.0\n",
      "183332 ++ 183.0\n"
     ]
    },
    {
     "name": "stderr",
     "output_type": "stream",
     "text": [
      "<ipython-input-56-f4bd9e6b0bc8>:3: SettingWithCopyWarning: \n",
      "A value is trying to be set on a copy of a slice from a DataFrame\n",
      "\n",
      "See the caveats in the documentation: https://pandas.pydata.org/pandas-docs/stable/user_guide/indexing.html#returning-a-view-versus-a-copy\n",
      "  df_user['Age'][df_user.index == index] = row['Age'] * 0.1\n",
      "<ipython-input-56-f4bd9e6b0bc8>:3: SettingWithCopyWarning: \n",
      "A value is trying to be set on a copy of a slice from a DataFrame\n",
      "\n",
      "See the caveats in the documentation: https://pandas.pydata.org/pandas-docs/stable/user_guide/indexing.html#returning-a-view-versus-a-copy\n",
      "  df_user['Age'][df_user.index == index] = row['Age'] * 0.1\n",
      "<ipython-input-56-f4bd9e6b0bc8>:3: SettingWithCopyWarning: \n",
      "A value is trying to be set on a copy of a slice from a DataFrame\n",
      "\n",
      "See the caveats in the documentation: https://pandas.pydata.org/pandas-docs/stable/user_guide/indexing.html#returning-a-view-versus-a-copy\n",
      "  df_user['Age'][df_user.index == index] = row['Age'] * 0.1\n",
      "<ipython-input-56-f4bd9e6b0bc8>:3: SettingWithCopyWarning: \n",
      "A value is trying to be set on a copy of a slice from a DataFrame\n",
      "\n",
      "See the caveats in the documentation: https://pandas.pydata.org/pandas-docs/stable/user_guide/indexing.html#returning-a-view-versus-a-copy\n",
      "  df_user['Age'][df_user.index == index] = row['Age'] * 0.1\n",
      "<ipython-input-56-f4bd9e6b0bc8>:3: SettingWithCopyWarning: \n",
      "A value is trying to be set on a copy of a slice from a DataFrame\n",
      "\n",
      "See the caveats in the documentation: https://pandas.pydata.org/pandas-docs/stable/user_guide/indexing.html#returning-a-view-versus-a-copy\n",
      "  df_user['Age'][df_user.index == index] = row['Age'] * 0.1\n",
      "<ipython-input-56-f4bd9e6b0bc8>:3: SettingWithCopyWarning: \n",
      "A value is trying to be set on a copy of a slice from a DataFrame\n",
      "\n",
      "See the caveats in the documentation: https://pandas.pydata.org/pandas-docs/stable/user_guide/indexing.html#returning-a-view-versus-a-copy\n",
      "  df_user['Age'][df_user.index == index] = row['Age'] * 0.1\n",
      "<ipython-input-56-f4bd9e6b0bc8>:3: SettingWithCopyWarning: \n",
      "A value is trying to be set on a copy of a slice from a DataFrame\n",
      "\n",
      "See the caveats in the documentation: https://pandas.pydata.org/pandas-docs/stable/user_guide/indexing.html#returning-a-view-versus-a-copy\n",
      "  df_user['Age'][df_user.index == index] = row['Age'] * 0.1\n",
      "<ipython-input-56-f4bd9e6b0bc8>:3: SettingWithCopyWarning: \n",
      "A value is trying to be set on a copy of a slice from a DataFrame\n",
      "\n",
      "See the caveats in the documentation: https://pandas.pydata.org/pandas-docs/stable/user_guide/indexing.html#returning-a-view-versus-a-copy\n",
      "  df_user['Age'][df_user.index == index] = row['Age'] * 0.1\n",
      "<ipython-input-56-f4bd9e6b0bc8>:3: SettingWithCopyWarning: \n",
      "A value is trying to be set on a copy of a slice from a DataFrame\n",
      "\n",
      "See the caveats in the documentation: https://pandas.pydata.org/pandas-docs/stable/user_guide/indexing.html#returning-a-view-versus-a-copy\n",
      "  df_user['Age'][df_user.index == index] = row['Age'] * 0.1\n",
      "<ipython-input-56-f4bd9e6b0bc8>:3: SettingWithCopyWarning: \n",
      "A value is trying to be set on a copy of a slice from a DataFrame\n",
      "\n",
      "See the caveats in the documentation: https://pandas.pydata.org/pandas-docs/stable/user_guide/indexing.html#returning-a-view-versus-a-copy\n",
      "  df_user['Age'][df_user.index == index] = row['Age'] * 0.1\n",
      "<ipython-input-56-f4bd9e6b0bc8>:3: SettingWithCopyWarning: \n",
      "A value is trying to be set on a copy of a slice from a DataFrame\n",
      "\n",
      "See the caveats in the documentation: https://pandas.pydata.org/pandas-docs/stable/user_guide/indexing.html#returning-a-view-versus-a-copy\n",
      "  df_user['Age'][df_user.index == index] = row['Age'] * 0.1\n",
      "<ipython-input-56-f4bd9e6b0bc8>:3: SettingWithCopyWarning: \n",
      "A value is trying to be set on a copy of a slice from a DataFrame\n",
      "\n",
      "See the caveats in the documentation: https://pandas.pydata.org/pandas-docs/stable/user_guide/indexing.html#returning-a-view-versus-a-copy\n",
      "  df_user['Age'][df_user.index == index] = row['Age'] * 0.1\n",
      "<ipython-input-56-f4bd9e6b0bc8>:3: SettingWithCopyWarning: \n",
      "A value is trying to be set on a copy of a slice from a DataFrame\n",
      "\n",
      "See the caveats in the documentation: https://pandas.pydata.org/pandas-docs/stable/user_guide/indexing.html#returning-a-view-versus-a-copy\n",
      "  df_user['Age'][df_user.index == index] = row['Age'] * 0.1\n",
      "<ipython-input-56-f4bd9e6b0bc8>:3: SettingWithCopyWarning: \n",
      "A value is trying to be set on a copy of a slice from a DataFrame\n",
      "\n",
      "See the caveats in the documentation: https://pandas.pydata.org/pandas-docs/stable/user_guide/indexing.html#returning-a-view-versus-a-copy\n",
      "  df_user['Age'][df_user.index == index] = row['Age'] * 0.1\n",
      "<ipython-input-56-f4bd9e6b0bc8>:3: SettingWithCopyWarning: \n",
      "A value is trying to be set on a copy of a slice from a DataFrame\n",
      "\n",
      "See the caveats in the documentation: https://pandas.pydata.org/pandas-docs/stable/user_guide/indexing.html#returning-a-view-versus-a-copy\n",
      "  df_user['Age'][df_user.index == index] = row['Age'] * 0.1\n",
      "<ipython-input-56-f4bd9e6b0bc8>:3: SettingWithCopyWarning: \n",
      "A value is trying to be set on a copy of a slice from a DataFrame\n",
      "\n",
      "See the caveats in the documentation: https://pandas.pydata.org/pandas-docs/stable/user_guide/indexing.html#returning-a-view-versus-a-copy\n",
      "  df_user['Age'][df_user.index == index] = row['Age'] * 0.1\n",
      "<ipython-input-56-f4bd9e6b0bc8>:3: SettingWithCopyWarning: \n",
      "A value is trying to be set on a copy of a slice from a DataFrame\n",
      "\n",
      "See the caveats in the documentation: https://pandas.pydata.org/pandas-docs/stable/user_guide/indexing.html#returning-a-view-versus-a-copy\n",
      "  df_user['Age'][df_user.index == index] = row['Age'] * 0.1\n",
      "<ipython-input-56-f4bd9e6b0bc8>:3: SettingWithCopyWarning: \n",
      "A value is trying to be set on a copy of a slice from a DataFrame\n",
      "\n",
      "See the caveats in the documentation: https://pandas.pydata.org/pandas-docs/stable/user_guide/indexing.html#returning-a-view-versus-a-copy\n",
      "  df_user['Age'][df_user.index == index] = row['Age'] * 0.1\n",
      "<ipython-input-56-f4bd9e6b0bc8>:3: SettingWithCopyWarning: \n",
      "A value is trying to be set on a copy of a slice from a DataFrame\n",
      "\n",
      "See the caveats in the documentation: https://pandas.pydata.org/pandas-docs/stable/user_guide/indexing.html#returning-a-view-versus-a-copy\n",
      "  df_user['Age'][df_user.index == index] = row['Age'] * 0.1\n",
      "<ipython-input-56-f4bd9e6b0bc8>:3: SettingWithCopyWarning: \n",
      "A value is trying to be set on a copy of a slice from a DataFrame\n",
      "\n",
      "See the caveats in the documentation: https://pandas.pydata.org/pandas-docs/stable/user_guide/indexing.html#returning-a-view-versus-a-copy\n",
      "  df_user['Age'][df_user.index == index] = row['Age'] * 0.1\n",
      "<ipython-input-56-f4bd9e6b0bc8>:3: SettingWithCopyWarning: \n",
      "A value is trying to be set on a copy of a slice from a DataFrame\n",
      "\n",
      "See the caveats in the documentation: https://pandas.pydata.org/pandas-docs/stable/user_guide/indexing.html#returning-a-view-versus-a-copy\n",
      "  df_user['Age'][df_user.index == index] = row['Age'] * 0.1\n",
      "<ipython-input-56-f4bd9e6b0bc8>:3: SettingWithCopyWarning: \n",
      "A value is trying to be set on a copy of a slice from a DataFrame\n",
      "\n",
      "See the caveats in the documentation: https://pandas.pydata.org/pandas-docs/stable/user_guide/indexing.html#returning-a-view-versus-a-copy\n",
      "  df_user['Age'][df_user.index == index] = row['Age'] * 0.1\n",
      "<ipython-input-56-f4bd9e6b0bc8>:3: SettingWithCopyWarning: \n",
      "A value is trying to be set on a copy of a slice from a DataFrame\n",
      "\n",
      "See the caveats in the documentation: https://pandas.pydata.org/pandas-docs/stable/user_guide/indexing.html#returning-a-view-versus-a-copy\n",
      "  df_user['Age'][df_user.index == index] = row['Age'] * 0.1\n",
      "<ipython-input-56-f4bd9e6b0bc8>:3: SettingWithCopyWarning: \n",
      "A value is trying to be set on a copy of a slice from a DataFrame\n",
      "\n",
      "See the caveats in the documentation: https://pandas.pydata.org/pandas-docs/stable/user_guide/indexing.html#returning-a-view-versus-a-copy\n",
      "  df_user['Age'][df_user.index == index] = row['Age'] * 0.1\n",
      "<ipython-input-56-f4bd9e6b0bc8>:3: SettingWithCopyWarning: \n",
      "A value is trying to be set on a copy of a slice from a DataFrame\n",
      "\n",
      "See the caveats in the documentation: https://pandas.pydata.org/pandas-docs/stable/user_guide/indexing.html#returning-a-view-versus-a-copy\n",
      "  df_user['Age'][df_user.index == index] = row['Age'] * 0.1\n",
      "<ipython-input-56-f4bd9e6b0bc8>:3: SettingWithCopyWarning: \n",
      "A value is trying to be set on a copy of a slice from a DataFrame\n",
      "\n",
      "See the caveats in the documentation: https://pandas.pydata.org/pandas-docs/stable/user_guide/indexing.html#returning-a-view-versus-a-copy\n",
      "  df_user['Age'][df_user.index == index] = row['Age'] * 0.1\n",
      "<ipython-input-56-f4bd9e6b0bc8>:3: SettingWithCopyWarning: \n",
      "A value is trying to be set on a copy of a slice from a DataFrame\n",
      "\n",
      "See the caveats in the documentation: https://pandas.pydata.org/pandas-docs/stable/user_guide/indexing.html#returning-a-view-versus-a-copy\n",
      "  df_user['Age'][df_user.index == index] = row['Age'] * 0.1\n",
      "<ipython-input-56-f4bd9e6b0bc8>:3: SettingWithCopyWarning: \n",
      "A value is trying to be set on a copy of a slice from a DataFrame\n",
      "\n",
      "See the caveats in the documentation: https://pandas.pydata.org/pandas-docs/stable/user_guide/indexing.html#returning-a-view-versus-a-copy\n",
      "  df_user['Age'][df_user.index == index] = row['Age'] * 0.1\n",
      "<ipython-input-56-f4bd9e6b0bc8>:3: SettingWithCopyWarning: \n",
      "A value is trying to be set on a copy of a slice from a DataFrame\n",
      "\n",
      "See the caveats in the documentation: https://pandas.pydata.org/pandas-docs/stable/user_guide/indexing.html#returning-a-view-versus-a-copy\n",
      "  df_user['Age'][df_user.index == index] = row['Age'] * 0.1\n",
      "<ipython-input-56-f4bd9e6b0bc8>:3: SettingWithCopyWarning: \n",
      "A value is trying to be set on a copy of a slice from a DataFrame\n",
      "\n",
      "See the caveats in the documentation: https://pandas.pydata.org/pandas-docs/stable/user_guide/indexing.html#returning-a-view-versus-a-copy\n",
      "  df_user['Age'][df_user.index == index] = row['Age'] * 0.1\n",
      "<ipython-input-56-f4bd9e6b0bc8>:3: SettingWithCopyWarning: \n",
      "A value is trying to be set on a copy of a slice from a DataFrame\n",
      "\n",
      "See the caveats in the documentation: https://pandas.pydata.org/pandas-docs/stable/user_guide/indexing.html#returning-a-view-versus-a-copy\n",
      "  df_user['Age'][df_user.index == index] = row['Age'] * 0.1\n",
      "<ipython-input-56-f4bd9e6b0bc8>:3: SettingWithCopyWarning: \n",
      "A value is trying to be set on a copy of a slice from a DataFrame\n",
      "\n",
      "See the caveats in the documentation: https://pandas.pydata.org/pandas-docs/stable/user_guide/indexing.html#returning-a-view-versus-a-copy\n",
      "  df_user['Age'][df_user.index == index] = row['Age'] * 0.1\n",
      "<ipython-input-56-f4bd9e6b0bc8>:3: SettingWithCopyWarning: \n",
      "A value is trying to be set on a copy of a slice from a DataFrame\n",
      "\n",
      "See the caveats in the documentation: https://pandas.pydata.org/pandas-docs/stable/user_guide/indexing.html#returning-a-view-versus-a-copy\n",
      "  df_user['Age'][df_user.index == index] = row['Age'] * 0.1\n",
      "<ipython-input-56-f4bd9e6b0bc8>:3: SettingWithCopyWarning: \n",
      "A value is trying to be set on a copy of a slice from a DataFrame\n",
      "\n",
      "See the caveats in the documentation: https://pandas.pydata.org/pandas-docs/stable/user_guide/indexing.html#returning-a-view-versus-a-copy\n",
      "  df_user['Age'][df_user.index == index] = row['Age'] * 0.1\n",
      "<ipython-input-56-f4bd9e6b0bc8>:3: SettingWithCopyWarning: \n",
      "A value is trying to be set on a copy of a slice from a DataFrame\n",
      "\n",
      "See the caveats in the documentation: https://pandas.pydata.org/pandas-docs/stable/user_guide/indexing.html#returning-a-view-versus-a-copy\n",
      "  df_user['Age'][df_user.index == index] = row['Age'] * 0.1\n",
      "<ipython-input-56-f4bd9e6b0bc8>:3: SettingWithCopyWarning: \n",
      "A value is trying to be set on a copy of a slice from a DataFrame\n",
      "\n",
      "See the caveats in the documentation: https://pandas.pydata.org/pandas-docs/stable/user_guide/indexing.html#returning-a-view-versus-a-copy\n",
      "  df_user['Age'][df_user.index == index] = row['Age'] * 0.1\n",
      "<ipython-input-56-f4bd9e6b0bc8>:3: SettingWithCopyWarning: \n",
      "A value is trying to be set on a copy of a slice from a DataFrame\n",
      "\n",
      "See the caveats in the documentation: https://pandas.pydata.org/pandas-docs/stable/user_guide/indexing.html#returning-a-view-versus-a-copy\n",
      "  df_user['Age'][df_user.index == index] = row['Age'] * 0.1\n",
      "<ipython-input-56-f4bd9e6b0bc8>:3: SettingWithCopyWarning: \n",
      "A value is trying to be set on a copy of a slice from a DataFrame\n",
      "\n",
      "See the caveats in the documentation: https://pandas.pydata.org/pandas-docs/stable/user_guide/indexing.html#returning-a-view-versus-a-copy\n",
      "  df_user['Age'][df_user.index == index] = row['Age'] * 0.1\n",
      "<ipython-input-56-f4bd9e6b0bc8>:3: SettingWithCopyWarning: \n",
      "A value is trying to be set on a copy of a slice from a DataFrame\n",
      "\n",
      "See the caveats in the documentation: https://pandas.pydata.org/pandas-docs/stable/user_guide/indexing.html#returning-a-view-versus-a-copy\n",
      "  df_user['Age'][df_user.index == index] = row['Age'] * 0.1\n",
      "<ipython-input-56-f4bd9e6b0bc8>:3: SettingWithCopyWarning: \n",
      "A value is trying to be set on a copy of a slice from a DataFrame\n",
      "\n",
      "See the caveats in the documentation: https://pandas.pydata.org/pandas-docs/stable/user_guide/indexing.html#returning-a-view-versus-a-copy\n",
      "  df_user['Age'][df_user.index == index] = row['Age'] * 0.1\n",
      "<ipython-input-56-f4bd9e6b0bc8>:3: SettingWithCopyWarning: \n",
      "A value is trying to be set on a copy of a slice from a DataFrame\n",
      "\n",
      "See the caveats in the documentation: https://pandas.pydata.org/pandas-docs/stable/user_guide/indexing.html#returning-a-view-versus-a-copy\n",
      "  df_user['Age'][df_user.index == index] = row['Age'] * 0.1\n",
      "<ipython-input-56-f4bd9e6b0bc8>:3: SettingWithCopyWarning: \n",
      "A value is trying to be set on a copy of a slice from a DataFrame\n",
      "\n",
      "See the caveats in the documentation: https://pandas.pydata.org/pandas-docs/stable/user_guide/indexing.html#returning-a-view-versus-a-copy\n",
      "  df_user['Age'][df_user.index == index] = row['Age'] * 0.1\n",
      "<ipython-input-56-f4bd9e6b0bc8>:3: SettingWithCopyWarning: \n",
      "A value is trying to be set on a copy of a slice from a DataFrame\n",
      "\n",
      "See the caveats in the documentation: https://pandas.pydata.org/pandas-docs/stable/user_guide/indexing.html#returning-a-view-versus-a-copy\n",
      "  df_user['Age'][df_user.index == index] = row['Age'] * 0.1\n",
      "<ipython-input-56-f4bd9e6b0bc8>:3: SettingWithCopyWarning: \n",
      "A value is trying to be set on a copy of a slice from a DataFrame\n",
      "\n",
      "See the caveats in the documentation: https://pandas.pydata.org/pandas-docs/stable/user_guide/indexing.html#returning-a-view-versus-a-copy\n",
      "  df_user['Age'][df_user.index == index] = row['Age'] * 0.1\n",
      "<ipython-input-56-f4bd9e6b0bc8>:3: SettingWithCopyWarning: \n",
      "A value is trying to be set on a copy of a slice from a DataFrame\n",
      "\n",
      "See the caveats in the documentation: https://pandas.pydata.org/pandas-docs/stable/user_guide/indexing.html#returning-a-view-versus-a-copy\n",
      "  df_user['Age'][df_user.index == index] = row['Age'] * 0.1\n",
      "<ipython-input-56-f4bd9e6b0bc8>:3: SettingWithCopyWarning: \n",
      "A value is trying to be set on a copy of a slice from a DataFrame\n",
      "\n",
      "See the caveats in the documentation: https://pandas.pydata.org/pandas-docs/stable/user_guide/indexing.html#returning-a-view-versus-a-copy\n",
      "  df_user['Age'][df_user.index == index] = row['Age'] * 0.1\n",
      "<ipython-input-56-f4bd9e6b0bc8>:3: SettingWithCopyWarning: \n",
      "A value is trying to be set on a copy of a slice from a DataFrame\n",
      "\n",
      "See the caveats in the documentation: https://pandas.pydata.org/pandas-docs/stable/user_guide/indexing.html#returning-a-view-versus-a-copy\n",
      "  df_user['Age'][df_user.index == index] = row['Age'] * 0.1\n",
      "<ipython-input-56-f4bd9e6b0bc8>:3: SettingWithCopyWarning: \n",
      "A value is trying to be set on a copy of a slice from a DataFrame\n",
      "\n",
      "See the caveats in the documentation: https://pandas.pydata.org/pandas-docs/stable/user_guide/indexing.html#returning-a-view-versus-a-copy\n",
      "  df_user['Age'][df_user.index == index] = row['Age'] * 0.1\n",
      "<ipython-input-56-f4bd9e6b0bc8>:3: SettingWithCopyWarning: \n",
      "A value is trying to be set on a copy of a slice from a DataFrame\n",
      "\n",
      "See the caveats in the documentation: https://pandas.pydata.org/pandas-docs/stable/user_guide/indexing.html#returning-a-view-versus-a-copy\n",
      "  df_user['Age'][df_user.index == index] = row['Age'] * 0.1\n",
      "<ipython-input-56-f4bd9e6b0bc8>:3: SettingWithCopyWarning: \n",
      "A value is trying to be set on a copy of a slice from a DataFrame\n",
      "\n",
      "See the caveats in the documentation: https://pandas.pydata.org/pandas-docs/stable/user_guide/indexing.html#returning-a-view-versus-a-copy\n",
      "  df_user['Age'][df_user.index == index] = row['Age'] * 0.1\n",
      "<ipython-input-56-f4bd9e6b0bc8>:3: SettingWithCopyWarning: \n",
      "A value is trying to be set on a copy of a slice from a DataFrame\n",
      "\n",
      "See the caveats in the documentation: https://pandas.pydata.org/pandas-docs/stable/user_guide/indexing.html#returning-a-view-versus-a-copy\n",
      "  df_user['Age'][df_user.index == index] = row['Age'] * 0.1\n",
      "<ipython-input-56-f4bd9e6b0bc8>:3: SettingWithCopyWarning: \n",
      "A value is trying to be set on a copy of a slice from a DataFrame\n",
      "\n",
      "See the caveats in the documentation: https://pandas.pydata.org/pandas-docs/stable/user_guide/indexing.html#returning-a-view-versus-a-copy\n",
      "  df_user['Age'][df_user.index == index] = row['Age'] * 0.1\n",
      "<ipython-input-56-f4bd9e6b0bc8>:3: SettingWithCopyWarning: \n",
      "A value is trying to be set on a copy of a slice from a DataFrame\n",
      "\n",
      "See the caveats in the documentation: https://pandas.pydata.org/pandas-docs/stable/user_guide/indexing.html#returning-a-view-versus-a-copy\n",
      "  df_user['Age'][df_user.index == index] = row['Age'] * 0.1\n",
      "<ipython-input-56-f4bd9e6b0bc8>:3: SettingWithCopyWarning: \n",
      "A value is trying to be set on a copy of a slice from a DataFrame\n",
      "\n",
      "See the caveats in the documentation: https://pandas.pydata.org/pandas-docs/stable/user_guide/indexing.html#returning-a-view-versus-a-copy\n",
      "  df_user['Age'][df_user.index == index] = row['Age'] * 0.1\n",
      "<ipython-input-56-f4bd9e6b0bc8>:3: SettingWithCopyWarning: \n",
      "A value is trying to be set on a copy of a slice from a DataFrame\n",
      "\n",
      "See the caveats in the documentation: https://pandas.pydata.org/pandas-docs/stable/user_guide/indexing.html#returning-a-view-versus-a-copy\n",
      "  df_user['Age'][df_user.index == index] = row['Age'] * 0.1\n"
     ]
    },
    {
     "name": "stdout",
     "output_type": "stream",
     "text": [
      "replaced value is :  183.0\n",
      "184860 ++ 204.0\n",
      "replaced value is :  204.0\n",
      "184948 ++ 147.0\n",
      "replaced value is :  147.0\n",
      "190646 ++ 204.0\n",
      "replaced value is :  204.0\n",
      "192412 ++ 228.0\n",
      "replaced value is :  228.0\n",
      "196035 ++ 148.0\n",
      "replaced value is :  148.0\n",
      "210012 ++ 204.0\n",
      "replaced value is :  204.0\n",
      "211520 ++ 223.0\n",
      "replaced value is :  223.0\n",
      "216665 ++ 208.0\n",
      "replaced value is :  208.0\n",
      "217550 ++ 124.0\n",
      "replaced value is :  124.0\n",
      "218682 ++ 157.0\n",
      "replaced value is :  157.0\n",
      "221391 ++ 123.0\n",
      "replaced value is :  123.0\n",
      "225525 ++ 124.0\n",
      "replaced value is :  124.0\n",
      "225959 ++ 146.0\n",
      "replaced value is :  146.0\n",
      "226615 ++ 204.0\n",
      "replaced value is :  204.0\n",
      "242213 ++ 228.0\n",
      "replaced value is :  228.0\n",
      "245084 ++ 123.0\n",
      "replaced value is :  123.0\n",
      "245230 ++ 220.0\n",
      "replaced value is :  220.0\n",
      "257113 ++ 210.0\n",
      "replaced value is :  210.0\n",
      "257429 ++ 200.0\n",
      "replaced value is :  200.0\n",
      "261553 ++ 143.0\n",
      "replaced value is :  143.0\n",
      "264933 ++ 140.0\n",
      "replaced value is :  140.0\n",
      "275582 ++ 189.0\n",
      "replaced value is :  189.0\n",
      "276047 ++ 127.0\n",
      "replaced value is :  127.0\n"
     ]
    },
    {
     "name": "stderr",
     "output_type": "stream",
     "text": [
      "<ipython-input-56-f4bd9e6b0bc8>:3: SettingWithCopyWarning: \n",
      "A value is trying to be set on a copy of a slice from a DataFrame\n",
      "\n",
      "See the caveats in the documentation: https://pandas.pydata.org/pandas-docs/stable/user_guide/indexing.html#returning-a-view-versus-a-copy\n",
      "  df_user['Age'][df_user.index == index] = row['Age'] * 0.1\n",
      "<ipython-input-56-f4bd9e6b0bc8>:3: SettingWithCopyWarning: \n",
      "A value is trying to be set on a copy of a slice from a DataFrame\n",
      "\n",
      "See the caveats in the documentation: https://pandas.pydata.org/pandas-docs/stable/user_guide/indexing.html#returning-a-view-versus-a-copy\n",
      "  df_user['Age'][df_user.index == index] = row['Age'] * 0.1\n",
      "<ipython-input-56-f4bd9e6b0bc8>:3: SettingWithCopyWarning: \n",
      "A value is trying to be set on a copy of a slice from a DataFrame\n",
      "\n",
      "See the caveats in the documentation: https://pandas.pydata.org/pandas-docs/stable/user_guide/indexing.html#returning-a-view-versus-a-copy\n",
      "  df_user['Age'][df_user.index == index] = row['Age'] * 0.1\n",
      "<ipython-input-56-f4bd9e6b0bc8>:3: SettingWithCopyWarning: \n",
      "A value is trying to be set on a copy of a slice from a DataFrame\n",
      "\n",
      "See the caveats in the documentation: https://pandas.pydata.org/pandas-docs/stable/user_guide/indexing.html#returning-a-view-versus-a-copy\n",
      "  df_user['Age'][df_user.index == index] = row['Age'] * 0.1\n",
      "<ipython-input-56-f4bd9e6b0bc8>:3: SettingWithCopyWarning: \n",
      "A value is trying to be set on a copy of a slice from a DataFrame\n",
      "\n",
      "See the caveats in the documentation: https://pandas.pydata.org/pandas-docs/stable/user_guide/indexing.html#returning-a-view-versus-a-copy\n",
      "  df_user['Age'][df_user.index == index] = row['Age'] * 0.1\n",
      "<ipython-input-56-f4bd9e6b0bc8>:3: SettingWithCopyWarning: \n",
      "A value is trying to be set on a copy of a slice from a DataFrame\n",
      "\n",
      "See the caveats in the documentation: https://pandas.pydata.org/pandas-docs/stable/user_guide/indexing.html#returning-a-view-versus-a-copy\n",
      "  df_user['Age'][df_user.index == index] = row['Age'] * 0.1\n",
      "<ipython-input-56-f4bd9e6b0bc8>:3: SettingWithCopyWarning: \n",
      "A value is trying to be set on a copy of a slice from a DataFrame\n",
      "\n",
      "See the caveats in the documentation: https://pandas.pydata.org/pandas-docs/stable/user_guide/indexing.html#returning-a-view-versus-a-copy\n",
      "  df_user['Age'][df_user.index == index] = row['Age'] * 0.1\n",
      "<ipython-input-56-f4bd9e6b0bc8>:3: SettingWithCopyWarning: \n",
      "A value is trying to be set on a copy of a slice from a DataFrame\n",
      "\n",
      "See the caveats in the documentation: https://pandas.pydata.org/pandas-docs/stable/user_guide/indexing.html#returning-a-view-versus-a-copy\n",
      "  df_user['Age'][df_user.index == index] = row['Age'] * 0.1\n",
      "<ipython-input-56-f4bd9e6b0bc8>:3: SettingWithCopyWarning: \n",
      "A value is trying to be set on a copy of a slice from a DataFrame\n",
      "\n",
      "See the caveats in the documentation: https://pandas.pydata.org/pandas-docs/stable/user_guide/indexing.html#returning-a-view-versus-a-copy\n",
      "  df_user['Age'][df_user.index == index] = row['Age'] * 0.1\n",
      "<ipython-input-56-f4bd9e6b0bc8>:3: SettingWithCopyWarning: \n",
      "A value is trying to be set on a copy of a slice from a DataFrame\n",
      "\n",
      "See the caveats in the documentation: https://pandas.pydata.org/pandas-docs/stable/user_guide/indexing.html#returning-a-view-versus-a-copy\n",
      "  df_user['Age'][df_user.index == index] = row['Age'] * 0.1\n",
      "<ipython-input-56-f4bd9e6b0bc8>:3: SettingWithCopyWarning: \n",
      "A value is trying to be set on a copy of a slice from a DataFrame\n",
      "\n",
      "See the caveats in the documentation: https://pandas.pydata.org/pandas-docs/stable/user_guide/indexing.html#returning-a-view-versus-a-copy\n",
      "  df_user['Age'][df_user.index == index] = row['Age'] * 0.1\n",
      "<ipython-input-56-f4bd9e6b0bc8>:3: SettingWithCopyWarning: \n",
      "A value is trying to be set on a copy of a slice from a DataFrame\n",
      "\n",
      "See the caveats in the documentation: https://pandas.pydata.org/pandas-docs/stable/user_guide/indexing.html#returning-a-view-versus-a-copy\n",
      "  df_user['Age'][df_user.index == index] = row['Age'] * 0.1\n",
      "<ipython-input-56-f4bd9e6b0bc8>:3: SettingWithCopyWarning: \n",
      "A value is trying to be set on a copy of a slice from a DataFrame\n",
      "\n",
      "See the caveats in the documentation: https://pandas.pydata.org/pandas-docs/stable/user_guide/indexing.html#returning-a-view-versus-a-copy\n",
      "  df_user['Age'][df_user.index == index] = row['Age'] * 0.1\n",
      "<ipython-input-56-f4bd9e6b0bc8>:3: SettingWithCopyWarning: \n",
      "A value is trying to be set on a copy of a slice from a DataFrame\n",
      "\n",
      "See the caveats in the documentation: https://pandas.pydata.org/pandas-docs/stable/user_guide/indexing.html#returning-a-view-versus-a-copy\n",
      "  df_user['Age'][df_user.index == index] = row['Age'] * 0.1\n",
      "<ipython-input-56-f4bd9e6b0bc8>:3: SettingWithCopyWarning: \n",
      "A value is trying to be set on a copy of a slice from a DataFrame\n",
      "\n",
      "See the caveats in the documentation: https://pandas.pydata.org/pandas-docs/stable/user_guide/indexing.html#returning-a-view-versus-a-copy\n",
      "  df_user['Age'][df_user.index == index] = row['Age'] * 0.1\n",
      "<ipython-input-56-f4bd9e6b0bc8>:3: SettingWithCopyWarning: \n",
      "A value is trying to be set on a copy of a slice from a DataFrame\n",
      "\n",
      "See the caveats in the documentation: https://pandas.pydata.org/pandas-docs/stable/user_guide/indexing.html#returning-a-view-versus-a-copy\n",
      "  df_user['Age'][df_user.index == index] = row['Age'] * 0.1\n",
      "<ipython-input-56-f4bd9e6b0bc8>:3: SettingWithCopyWarning: \n",
      "A value is trying to be set on a copy of a slice from a DataFrame\n",
      "\n",
      "See the caveats in the documentation: https://pandas.pydata.org/pandas-docs/stable/user_guide/indexing.html#returning-a-view-versus-a-copy\n",
      "  df_user['Age'][df_user.index == index] = row['Age'] * 0.1\n",
      "<ipython-input-56-f4bd9e6b0bc8>:3: SettingWithCopyWarning: \n",
      "A value is trying to be set on a copy of a slice from a DataFrame\n",
      "\n",
      "See the caveats in the documentation: https://pandas.pydata.org/pandas-docs/stable/user_guide/indexing.html#returning-a-view-versus-a-copy\n",
      "  df_user['Age'][df_user.index == index] = row['Age'] * 0.1\n",
      "<ipython-input-56-f4bd9e6b0bc8>:3: SettingWithCopyWarning: \n",
      "A value is trying to be set on a copy of a slice from a DataFrame\n",
      "\n",
      "See the caveats in the documentation: https://pandas.pydata.org/pandas-docs/stable/user_guide/indexing.html#returning-a-view-versus-a-copy\n",
      "  df_user['Age'][df_user.index == index] = row['Age'] * 0.1\n",
      "<ipython-input-56-f4bd9e6b0bc8>:3: SettingWithCopyWarning: \n",
      "A value is trying to be set on a copy of a slice from a DataFrame\n",
      "\n",
      "See the caveats in the documentation: https://pandas.pydata.org/pandas-docs/stable/user_guide/indexing.html#returning-a-view-versus-a-copy\n",
      "  df_user['Age'][df_user.index == index] = row['Age'] * 0.1\n",
      "<ipython-input-56-f4bd9e6b0bc8>:3: SettingWithCopyWarning: \n",
      "A value is trying to be set on a copy of a slice from a DataFrame\n",
      "\n",
      "See the caveats in the documentation: https://pandas.pydata.org/pandas-docs/stable/user_guide/indexing.html#returning-a-view-versus-a-copy\n",
      "  df_user['Age'][df_user.index == index] = row['Age'] * 0.1\n",
      "<ipython-input-56-f4bd9e6b0bc8>:3: SettingWithCopyWarning: \n",
      "A value is trying to be set on a copy of a slice from a DataFrame\n",
      "\n",
      "See the caveats in the documentation: https://pandas.pydata.org/pandas-docs/stable/user_guide/indexing.html#returning-a-view-versus-a-copy\n",
      "  df_user['Age'][df_user.index == index] = row['Age'] * 0.1\n",
      "<ipython-input-56-f4bd9e6b0bc8>:3: SettingWithCopyWarning: \n",
      "A value is trying to be set on a copy of a slice from a DataFrame\n",
      "\n",
      "See the caveats in the documentation: https://pandas.pydata.org/pandas-docs/stable/user_guide/indexing.html#returning-a-view-versus-a-copy\n",
      "  df_user['Age'][df_user.index == index] = row['Age'] * 0.1\n"
     ]
    }
   ],
   "source": [
    "for index, row in df_user[df_user['Age'] > 119].iterrows():\n",
    "    print(index, \"++\", row['Age'])\n",
    "    df_user['Age'][df_user.index == index] = row['Age'] * 0.1"
   ]
  },
  {
   "cell_type": "code",
   "execution_count": 64,
   "metadata": {},
   "outputs": [],
   "source": [
    "# df_user['Age'].mode()\n",
    "df_user['Age'].fillna(df_user['Age'].mode()[0], inplace=True)"
   ]
  },
  {
   "cell_type": "code",
   "execution_count": 66,
   "metadata": {},
   "outputs": [
    {
     "data": {
      "text/plain": [
       "User-ID     0\n",
       "Location    0\n",
       "Age         0\n",
       "location    0\n",
       "dtype: int64"
      ]
     },
     "execution_count": 66,
     "metadata": {},
     "output_type": "execute_result"
    }
   ],
   "source": [
    "df_user.isnull().sum()"
   ]
  },
  {
   "cell_type": "code",
   "execution_count": 68,
   "metadata": {},
   "outputs": [
    {
     "data": {
      "text/plain": [
       "804846"
      ]
     },
     "execution_count": 68,
     "metadata": {},
     "output_type": "execute_result"
    }
   ],
   "source": [
    "df_rat_rand = df_ratings.sample(frac=1, random_state=7)\n",
    "training_test_index = round(len(df_rat_rand) * 0.7)\n",
    "training_test_index"
   ]
  },
  {
   "cell_type": "code",
   "execution_count": 69,
   "metadata": {},
   "outputs": [],
   "source": [
    "training_set = df_rat_rand[:training_test_index].reset_index(drop=True)\n",
    "test_set = df_rat_rand[training_test_index:].reset_index(drop=True)"
   ]
  },
  {
   "cell_type": "code",
   "execution_count": 71,
   "metadata": {},
   "outputs": [
    {
     "data": {
      "text/html": [
       "<div>\n",
       "<style scoped>\n",
       "    .dataframe tbody tr th:only-of-type {\n",
       "        vertical-align: middle;\n",
       "    }\n",
       "\n",
       "    .dataframe tbody tr th {\n",
       "        vertical-align: top;\n",
       "    }\n",
       "\n",
       "    .dataframe thead th {\n",
       "        text-align: right;\n",
       "    }\n",
       "</style>\n",
       "<table border=\"1\" class=\"dataframe\">\n",
       "  <thead>\n",
       "    <tr style=\"text-align: right;\">\n",
       "      <th></th>\n",
       "      <th>User-ID</th>\n",
       "      <th>ISBN</th>\n",
       "      <th>Book-Rating</th>\n",
       "    </tr>\n",
       "  </thead>\n",
       "  <tbody>\n",
       "    <tr>\n",
       "      <th>0</th>\n",
       "      <td>201353</td>\n",
       "      <td>0590483463</td>\n",
       "      <td>6</td>\n",
       "    </tr>\n",
       "    <tr>\n",
       "      <th>1</th>\n",
       "      <td>246617</td>\n",
       "      <td>0330480413</td>\n",
       "      <td>0</td>\n",
       "    </tr>\n",
       "    <tr>\n",
       "      <th>2</th>\n",
       "      <td>55548</td>\n",
       "      <td>0060919655</td>\n",
       "      <td>0</td>\n",
       "    </tr>\n",
       "    <tr>\n",
       "      <th>3</th>\n",
       "      <td>110029</td>\n",
       "      <td>0006482066</td>\n",
       "      <td>0</td>\n",
       "    </tr>\n",
       "    <tr>\n",
       "      <th>4</th>\n",
       "      <td>113537</td>\n",
       "      <td>3518396315</td>\n",
       "      <td>10</td>\n",
       "    </tr>\n",
       "    <tr>\n",
       "      <th>...</th>\n",
       "      <td>...</td>\n",
       "      <td>...</td>\n",
       "      <td>...</td>\n",
       "    </tr>\n",
       "    <tr>\n",
       "      <th>344929</th>\n",
       "      <td>16795</td>\n",
       "      <td>0451144325</td>\n",
       "      <td>0</td>\n",
       "    </tr>\n",
       "    <tr>\n",
       "      <th>344930</th>\n",
       "      <td>203380</td>\n",
       "      <td>0600588564</td>\n",
       "      <td>7</td>\n",
       "    </tr>\n",
       "    <tr>\n",
       "      <th>344931</th>\n",
       "      <td>129074</td>\n",
       "      <td>0449206637</td>\n",
       "      <td>0</td>\n",
       "    </tr>\n",
       "    <tr>\n",
       "      <th>344932</th>\n",
       "      <td>138097</td>\n",
       "      <td>0679433015</td>\n",
       "      <td>0</td>\n",
       "    </tr>\n",
       "    <tr>\n",
       "      <th>344933</th>\n",
       "      <td>141493</td>\n",
       "      <td>0060959037</td>\n",
       "      <td>0</td>\n",
       "    </tr>\n",
       "  </tbody>\n",
       "</table>\n",
       "<p>344934 rows × 3 columns</p>\n",
       "</div>"
      ],
      "text/plain": [
       "        User-ID        ISBN  Book-Rating\n",
       "0        201353  0590483463            6\n",
       "1        246617  0330480413            0\n",
       "2         55548  0060919655            0\n",
       "3        110029  0006482066            0\n",
       "4        113537  3518396315           10\n",
       "...         ...         ...          ...\n",
       "344929    16795  0451144325            0\n",
       "344930   203380  0600588564            7\n",
       "344931   129074  0449206637            0\n",
       "344932   138097  0679433015            0\n",
       "344933   141493  0060959037            0\n",
       "\n",
       "[344934 rows x 3 columns]"
      ]
     },
     "execution_count": 71,
     "metadata": {},
     "output_type": "execute_result"
    }
   ],
   "source": [
    "test_set"
   ]
  },
  {
   "cell_type": "code",
   "execution_count": 72,
   "metadata": {},
   "outputs": [],
   "source": [
    "#Removed enties of non existing user id and isbn from test not available in train\n",
    "\n",
    "test_set_new = test_set[test_set['User-ID'].isin(training_set['User-ID']) &\n",
    "                      test_set['ISBN'].isin(training_set['ISBN'])]"
   ]
  },
  {
   "cell_type": "code",
   "execution_count": 74,
   "metadata": {},
   "outputs": [
    {
     "name": "stdout",
     "output_type": "stream",
     "text": [
      "<class 'pandas.core.frame.DataFrame'>\n",
      "Int64Index: 255238 entries, 0 to 344933\n",
      "Data columns (total 3 columns):\n",
      " #   Column       Non-Null Count   Dtype \n",
      "---  ------       --------------   ----- \n",
      " 0   User-ID      255238 non-null  int64 \n",
      " 1   ISBN         255238 non-null  object\n",
      " 2   Book-Rating  255238 non-null  int64 \n",
      "dtypes: int64(2), object(1)\n",
      "memory usage: 7.8+ MB\n"
     ]
    }
   ],
   "source": [
    "test_set_new.info()"
   ]
  },
  {
   "cell_type": "code",
   "execution_count": 75,
   "metadata": {},
   "outputs": [],
   "source": [
    "train_data = training_set.astype({'User-ID': 'category', 'ISBN': 'category'})\n",
    "test_data = test_set_new.astype({'User-ID': 'category', 'ISBN': 'category'})"
   ]
  },
  {
   "cell_type": "code",
   "execution_count": 77,
   "metadata": {},
   "outputs": [
    {
     "name": "stderr",
     "output_type": "stream",
     "text": [
      "<ipython-input-77-d3058a5be1c0>:1: UserWarning: The given NumPy array is not writable, and PyTorch does not support non-writable tensors. This means writing to this tensor will result in undefined behavior. You may want to copy the array to protect its data or make it writable before converting it to a tensor. This type of warning will be suppressed for the rest of this program. (Triggered internally at  /opt/conda/conda-bld/pytorch_1646755883846/work/torch/csrc/utils/tensor_numpy.cpp:178.)\n",
      "  train_user_ids = torch.LongTensor(train_data['User-ID'].cat.codes.values)\n"
     ]
    }
   ],
   "source": [
    "train_user_ids = torch.LongTensor(train_data['User-ID'].cat.codes.values)\n",
    "train_item_ids = torch.LongTensor(train_data['ISBN'].cat.codes.values)\n",
    "train_ratings = torch.LongTensor(train_data['Book-Rating'].values)\n",
    "test_user_ids = torch.LongTensor(test_data['User-ID'].cat.codes.values)\n",
    "test_item_ids = torch.LongTensor(test_data['ISBN'].cat.codes.values)\n",
    "test_ratings = torch.LongTensor(test_data['Book-Rating'].values)"
   ]
  },
  {
   "cell_type": "code",
   "execution_count": 80,
   "metadata": {},
   "outputs": [
    {
     "data": {
      "text/plain": [
       "tensor([ 9, 10, 10,  ...,  0,  0,  0])"
      ]
     },
     "execution_count": 80,
     "metadata": {},
     "output_type": "execute_result"
    }
   ],
   "source": [
    "train_ratings"
   ]
  },
  {
   "cell_type": "code",
   "execution_count": 81,
   "metadata": {},
   "outputs": [],
   "source": [
    "graph = dgl.heterograph({\n",
    "    # Heterogeneous graphs are organized as a dictionary of edges connecting two types of nodes.\n",
    "    # We specify the edges of a type simply with a pair of user ID array and item ID array.\n",
    "    ('user', 'read', 'item'): (train_user_ids, train_item_ids),\n",
    "    # Since DGL graphs are directional, we need an inverse relation from items to users as well.\n",
    "    ('item', 'read-by', 'user'): (train_item_ids, train_user_ids)\n",
    "})"
   ]
  },
  {
   "cell_type": "code",
   "execution_count": 89,
   "metadata": {},
   "outputs": [
    {
     "data": {
      "text/plain": [
       "Graph(num_nodes={'item': 274875, 'user': 86105},\n",
       "      num_edges={('item', 'read-by', 'user'): 804846, ('user', 'read', 'item'): 804846},\n",
       "      metagraph=[('item', 'user', 'read-by'), ('user', 'item', 'read')])"
      ]
     },
     "execution_count": 89,
     "metadata": {},
     "output_type": "execute_result"
    }
   ],
   "source": [
    "graph"
   ]
  },
  {
   "cell_type": "code",
   "execution_count": 84,
   "metadata": {},
   "outputs": [
    {
     "name": "stdout",
     "output_type": "stream",
     "text": [
      "Requirement already satisfied: networkx in /home/chinu/.conda/envs/mlenv/lib/python3.9/site-packages (2.8.4)\n",
      "Collecting networkx\n",
      "  Downloading networkx-2.8.6-py3-none-any.whl (2.0 MB)\n",
      "\u001b[2K     \u001b[38;2;114;156;31m━━━━━━━━━━━━━━━━━━━━━━━━━━━━━━━━━━━━━━━━\u001b[0m \u001b[32m2.0/2.0 MB\u001b[0m \u001b[31m939.8 kB/s\u001b[0m eta \u001b[36m0:00:00\u001b[0mm eta \u001b[36m0:00:01\u001b[0m[36m0:00:01\u001b[0m\n",
      "\u001b[?25hInstalling collected packages: networkx\n",
      "  Attempting uninstall: networkx\n",
      "    Found existing installation: networkx 2.8.4\n",
      "    Uninstalling networkx-2.8.4:\n",
      "      Successfully uninstalled networkx-2.8.4\n",
      "\u001b[31mERROR: pip's dependency resolver does not currently take into account all the packages that are installed. This behaviour is the source of the following dependency conflicts.\n",
      "rasa 3.1.0 requires attrs<21.3,>=19.3, but you have attrs 21.4.0 which is incompatible.\n",
      "rasa 3.1.0 requires cloudpickle<1.7,>=1.2, but you have cloudpickle 2.0.0 which is incompatible.\n",
      "rasa 3.1.0 requires dask==2021.11.2, but you have dask 2022.2.1 which is incompatible.\n",
      "rasa 3.1.0 requires networkx<2.7,>=2.4, but you have networkx 2.8.6 which is incompatible.\n",
      "rasa 3.1.0 requires numpy<1.20.0,>=1.19.2, but you have numpy 1.21.5 which is incompatible.\n",
      "rasa 3.1.0 requires packaging<21.0,>=20.0, but you have packaging 21.3 which is incompatible.\n",
      "rasa 3.1.0 requires prompt-toolkit<3.0,>=2.0, but you have prompt-toolkit 3.0.20 which is incompatible.\n",
      "rasa 3.1.0 requires regex<2021.9,>=2020.6, but you have regex 2022.3.15 which is incompatible.\n",
      "rasa 3.1.0 requires typing-extensions<4.0.0,>=3.7.4, but you have typing-extensions 4.1.1 which is incompatible.\n",
      "rasa 3.1.0 requires ujson<5.0,>=1.35, but you have ujson 5.1.0 which is incompatible.\u001b[0m\u001b[31m\n",
      "\u001b[0mSuccessfully installed networkx-2.8.6\n"
     ]
    }
   ],
   "source": [
    "!pip install --upgrade networkx"
   ]
  },
  {
   "cell_type": "code",
   "execution_count": 88,
   "metadata": {},
   "outputs": [
    {
     "name": "stdout",
     "output_type": "stream",
     "text": [
      "Unexpected exception formatting exception. Falling back to standard exception\n"
     ]
    },
    {
     "name": "stderr",
     "output_type": "stream",
     "text": [
      "Traceback (most recent call last):\n",
      "  File \"/home/chinu/.conda/envs/mlenv/lib/python3.9/site-packages/IPython/core/interactiveshell.py\", line 3369, in run_code\n",
      "    exec(code_obj, self.user_global_ns, self.user_ns)\n",
      "  File \"<ipython-input-88-b8e73fa24b87>\", line 5, in <cell line: 5>\n",
      "    nx.draw(graph)\n",
      "  File \"/home/chinu/.conda/envs/mlenv/lib/python3.9/site-packages/networkx/drawing/nx_pylab.py\", line 120, in draw\n",
      "  File \"/home/chinu/.conda/envs/mlenv/lib/python3.9/site-packages/networkx/drawing/nx_pylab.py\", line 331, in draw_networkx\n",
      "    Parameters\n",
      "  File \"<class 'networkx.utils.decorators.argmap'> compilation 4\", line 4, in argmap_spring_layout_1\n",
      "    import inspect\n",
      "  File \"/home/chinu/.conda/envs/mlenv/lib/python3.9/site-packages/networkx/drawing/layout.py\", line 442, in spring_layout\n",
      "    G, center = _process_params(G, center, dim)\n",
      "  File \"/home/chinu/.conda/envs/mlenv/lib/python3.9/site-packages/networkx/drawing/layout.py\", line 44, in _process_params\n",
      "    empty_graph.add_nodes_from(G)\n",
      "  File \"/home/chinu/.conda/envs/mlenv/lib/python3.9/site-packages/networkx/classes/graph.py\", line 570, in add_nodes_from\n",
      "    Parameters\n",
      "  File \"/home/chinu/.conda/envs/mlenv/lib/python3.9/site-packages/dgl/heterograph.py\", line 2240, in __getitem__\n",
      "    raise DGLError('Invalid key \"{}\". Must be one of the edge types.'.format(orig_key))\n",
      "dgl._ffi.base.DGLError: Invalid key \"0\". Must be one of the edge types.\n",
      "\n",
      "During handling of the above exception, another exception occurred:\n",
      "\n",
      "Traceback (most recent call last):\n",
      "  File \"/home/chinu/.conda/envs/mlenv/lib/python3.9/site-packages/IPython/core/interactiveshell.py\", line 1982, in showtraceback\n",
      "    stb = self.InteractiveTB.structured_traceback(\n",
      "  File \"/home/chinu/.conda/envs/mlenv/lib/python3.9/site-packages/IPython/core/ultratb.py\", line 1118, in structured_traceback\n",
      "    return FormattedTB.structured_traceback(\n",
      "  File \"/home/chinu/.conda/envs/mlenv/lib/python3.9/site-packages/IPython/core/ultratb.py\", line 1012, in structured_traceback\n",
      "    return VerboseTB.structured_traceback(\n",
      "  File \"/home/chinu/.conda/envs/mlenv/lib/python3.9/site-packages/IPython/core/ultratb.py\", line 865, in structured_traceback\n",
      "    formatted_exception = self.format_exception_as_a_whole(etype, evalue, etb, number_of_lines_of_context,\n",
      "  File \"/home/chinu/.conda/envs/mlenv/lib/python3.9/site-packages/IPython/core/ultratb.py\", line 818, in format_exception_as_a_whole\n",
      "    frames.append(self.format_record(r))\n",
      "  File \"/home/chinu/.conda/envs/mlenv/lib/python3.9/site-packages/IPython/core/ultratb.py\", line 736, in format_record\n",
      "    result += ''.join(_format_traceback_lines(frame_info.lines, Colors, self.has_colors, lvals))\n",
      "  File \"/home/chinu/.conda/envs/mlenv/lib/python3.9/site-packages/stack_data/utils.py\", line 145, in cached_property_wrapper\n",
      "    value = obj.__dict__[self.func.__name__] = self.func(obj)\n",
      "  File \"/home/chinu/.conda/envs/mlenv/lib/python3.9/site-packages/stack_data/core.py\", line 698, in lines\n",
      "    pieces = self.included_pieces\n",
      "  File \"/home/chinu/.conda/envs/mlenv/lib/python3.9/site-packages/stack_data/utils.py\", line 145, in cached_property_wrapper\n",
      "    value = obj.__dict__[self.func.__name__] = self.func(obj)\n",
      "  File \"/home/chinu/.conda/envs/mlenv/lib/python3.9/site-packages/stack_data/core.py\", line 649, in included_pieces\n",
      "    pos = scope_pieces.index(self.executing_piece)\n",
      "  File \"/home/chinu/.conda/envs/mlenv/lib/python3.9/site-packages/stack_data/utils.py\", line 145, in cached_property_wrapper\n",
      "    value = obj.__dict__[self.func.__name__] = self.func(obj)\n",
      "  File \"/home/chinu/.conda/envs/mlenv/lib/python3.9/site-packages/stack_data/core.py\", line 628, in executing_piece\n",
      "    return only(\n",
      "  File \"/home/chinu/.conda/envs/mlenv/lib/python3.9/site-packages/executing/executing.py\", line 164, in only\n",
      "    raise NotOneValueFound('Expected one value, found 0')\n",
      "executing.executing.NotOneValueFound: Expected one value, found 0\n"
     ]
    },
    {
     "data": {
      "image/png": "[encoded data removed]",
      "text/plain": [
       "<Figure size 432x288 with 1 Axes>"
      ]
     },
     "metadata": {},
     "output_type": "display_data"
    }
   ],
   "source": [
    "import networkx as nx\n",
    "\n",
    "# The metagraph is shown in the figure below.  Note the bidirectional arrows.\n",
    "# nx.draw_networkx_edges(graph.metagraph, )\n",
    "nx.draw(graph)"
   ]
  },
  {
   "cell_type": "code",
   "execution_count": 91,
   "metadata": {},
   "outputs": [
    {
     "data": {
      "text/plain": [
       "0              1\n",
       "1              2\n",
       "2              3\n",
       "3              4\n",
       "4              5\n",
       "           ...  \n",
       "278853    278854\n",
       "278854    278855\n",
       "278855    278856\n",
       "278856    278857\n",
       "278857    278858\n",
       "Name: User-ID, Length: 278858, dtype: int64"
      ]
     },
     "execution_count": 91,
     "metadata": {},
     "output_type": "execute_result"
    }
   ],
   "source": [
    "df_user['User-ID']"
   ]
  },
  {
   "cell_type": "code",
   "execution_count": 92,
   "metadata": {},
   "outputs": [],
   "source": [
    "df_user['User-ID'] = df_user['User-ID'].astype('category')\n",
    "df_user['User-ID'] = df_user['User-ID'].cat.set_categories(train_data['User-ID'].cat.categories)\n",
    "\n",
    "# df_user = df_user.dropna(subset=[0])\n",
    "# df_user['User-ID'] = df_user['User-ID'].cat.codes\n",
    "# df_user = df_user.sort_values('User-ID')\n",
    "\n",
    "df_book['ISBN'] = df_book['ISBN'].astype('category')\n",
    "df_book['ISBN'] = df_book['ISBN'].cat.set_categories(train_data['ISBN'].cat.categories)\n",
    "\n",
    "# df_book = df_book.dropna(subset=[0])\n",
    "# df_book['ISBN'] = df_book['ISBN'].cat.codes\n",
    "# df_book = df_book.sort_values('ISBN')\n"
   ]
  },
  {
   "cell_type": "code",
   "execution_count": null,
   "metadata": {},
   "outputs": [],
   "source": [
    "# Convert the age, gender, and occupation column to categorical\n",
    "df_user['location'] = df_user['location'].astype('category')\n",
    "df_user.drop(columns='Location', inplace=True)\n",
    "\n",
    "user_age = df_user['Age'].values // 10\n",
    "num_user_age_bins = user_age.max() + 1     # count the number of user age bins\n"
   ]
  }
 ],
 "metadata": {
  "kernelspec": {
   "display_name": "Python 3 (ipykernel)",
   "language": "python",
   "name": "python3"
  },
  "language_info": {
   "codemirror_mode": {
    "name": "ipython",
    "version": 3
   },
   "file_extension": ".py",
   "mimetype": "text/x-python",
   "name": "python",
   "nbconvert_exporter": "python",
   "pygments_lexer": "ipython3",
   "version": "3.9.12"
  },
  "orig_nbformat": 4
 },
 "nbformat": 4,
 "nbformat_minor": 2
}
